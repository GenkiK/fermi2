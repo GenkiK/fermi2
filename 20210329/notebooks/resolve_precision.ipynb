{
 "cells": [
  {
   "cell_type": "code",
   "execution_count": 6,
   "metadata": {},
   "outputs": [],
   "source": [
    "import sympy as sp"
   ]
  },
  {
   "cell_type": "code",
   "execution_count": 1,
   "metadata": {},
   "outputs": [],
   "source": [
    "from fermi_model import *\n",
    "states3 = csv_to_states()"
   ]
  },
  {
   "cell_type": "code",
   "execution_count": 2,
   "metadata": {},
   "outputs": [],
   "source": [
    "def sum_along_axis(matrix: NDArray[np.float64], axis: int = 0):\n",
    "    return np.apply_along_axis(np.sum, axis, matrix)"
   ]
  },
  {
   "cell_type": "code",
   "execution_count": 3,
   "metadata": {},
   "outputs": [],
   "source": [
    "fermi = Fermi(states3, equ=False, Te=0.5, ne=0.1)\n",
    "\n",
    "if np.all(fermi.excitation == 0):\n",
    "    fermi._make_matrices()\n",
    "C_ = np.diag(sum_along_axis(fermi.excitation, 1))\n",
    "F_ = np.diag(sum_along_axis(fermi.deexcitation, 0))\n",
    "C = fermi.excitation\n",
    "F = fermi.deexcitation\n",
    "coeff = C_ - F - C.T + F_\n",
    "if not fermi.equ:\n",
    "    A_ = np.diag(sum_along_axis(fermi.emission, 0))\n",
    "    A = fermi.emission\n",
    "    coeff += A_ - A\n",
    "fermi.coeff = coeff\n",
    "\n",
    "normalized = -coeff / np.max(np.abs(np.diag(coeff))) + np.eye(C.shape[0])"
   ]
  },
  {
   "cell_type": "code",
   "execution_count": 15,
   "metadata": {},
   "outputs": [],
   "source": [
    "def power_method(matrix):\n",
    "    x = np.zeros(matrix.shape[0])\n",
    "    x[0] = 1\n",
    "    eigen_past = 0\n",
    "    while True:\n",
    "        y = np.dot(matrix, x)\n",
    "        eigen = np.dot(y, y) / np.dot(y, x)\n",
    "        if np.abs(eigen_past - eigen) < 1e-15:\n",
    "            return x, eigen\n",
    "        x = y / np.linalg.norm(y)\n",
    "        eigen_past = eigen\n",
    "\n",
    "def power_method_2(matrix):\n",
    "    x = np.zeros(matrix.shape[0])\n",
    "    x[0] = 1\n",
    "    eigen_past = 0\n",
    "    while True:\n",
    "        y = np.dot(matrix, x)\n",
    "        eigen = np.linalg.norm(y)\n",
    "        if np.abs(eigen_past - eigen) < 1e-15:\n",
    "            return x, eigen\n",
    "        x = y / eigen\n",
    "        eigen_past = eigen"
   ]
  },
  {
   "cell_type": "code",
   "execution_count": 18,
   "metadata": {},
   "outputs": [
    {
     "name": "stdout",
     "output_type": "stream",
     "text": [
      "[9.99921729e-01 1.25075360e-02 2.19525902e-04 2.19265948e-04\n",
      " 7.57406112e-06 8.69729862e-06 7.56174481e-06 3.70827375e-07\n",
      " 4.60194715e-07 9.08649092e-08 4.59921446e-07 2.23444506e-08\n",
      " 2.84718346e-08 4.88826461e-09 3.19431456e-08 4.88624493e-09\n",
      " 1.54409262e-09 1.97057671e-09 3.15540575e-10 9.21236088e-11\n",
      " 2.36588076e-09 3.34886217e-10 9.19882707e-11 1.17595475e-10\n",
      " 1.48647234e-10 2.27291391e-11 5.76264986e-12 1.84890772e-10\n",
      " 2.53667374e-11 6.13176396e-12 6.12489458e-12 9.62986289e-12\n",
      " 1.20022969e-11 1.77217067e-12 4.15350009e-13 2.19880127e-13\n",
      " 1.51639793e-11 2.03304514e-12 4.41207468e-13 4.60254632e-13\n",
      " 2.63779639e-13 8.34216488e-13 1.02372980e-12 1.46919511e-13\n",
      " 3.26846665e-14 1.54016602e-14 1.29877035e-12 1.70607904e-13\n",
      " 3.51568936e-14 1.70517190e-14 3.72297031e-14 1.91685122e-14\n",
      " 2.54486821e-15 7.55848078e-14 9.13315146e-14 1.27963391e-14\n",
      " 2.73944667e-15 1.20189087e-15 8.16731372e-16 1.15595910e-13\n",
      " 1.49021309e-14 2.96793114e-15 1.29993492e-15 3.17314731e-15\n",
      " 1.53087202e-15 1.09649631e-15 1.87058849e-16 7.10418693e-15\n",
      " 8.45829636e-15 1.16076037e-15 2.41103772e-16 1.00733138e-16\n",
      " 6.24250029e-17 1.06423536e-14 1.34833749e-15 2.61523211e-16\n",
      " 1.08169662e-16 7.13103074e-17 2.81767161e-16 1.30202447e-16\n",
      " 8.55336848e-17 1.50877224e-17 1.08483783e-17 6.88409111e-16\n",
      " 8.08380714e-16 1.08940592e-16 2.20753523e-17 8.89419027e-18\n",
      " 5.18451677e-18 3.98865342e-18 1.00928096e-15 1.25839332e-16\n",
      " 2.38738210e-17 9.50515914e-18 5.75620062e-18 2.58860827e-17\n",
      " 1.15937867e-17 7.19277398e-18 5.65482165e-18 1.29484870e-18\n",
      " 8.58219641e-19 2.03087641e-19 6.84511458e-17 7.93600025e-17\n",
      " 1.05245022e-17 2.08866965e-18 8.17849976e-19 4.56426694e-19\n",
      " 3.26348553e-19 9.82391779e-17 1.20696707e-17 2.24643226e-18\n",
      " 8.69218358e-19 4.98943352e-19 3.81047928e-19 2.44848373e-18\n",
      " 1.07021918e-18 6.37936728e-19 4.67230036e-19 1.16292357e-19\n",
      " 7.28917051e-20 5.88625465e-20 1.60076115e-20 6.95838645e-18\n",
      " 7.97304318e-18 1.04234095e-18 2.03190020e-19 7.77275795e-20\n",
      " 4.19746241e-20 2.84995207e-20 2.35521475e-20 9.78346750e-18\n",
      " 1.18587718e-18 2.17031997e-19 8.20689404e-20 4.53882883e-20\n",
      " 3.23598948e-20 2.37550136e-19 1.01772871e-19 5.88841362e-20\n",
      " 4.10347310e-20 3.41217762e-20 1.08219901e-20 6.51741993e-21\n",
      " 4.93045185e-21 1.36245642e-21 1.06212698e-21 7.21016824e-19\n",
      " 8.17283021e-19 1.05483949e-19 2.02441208e-20 7.59379556e-21\n",
      " 3.99530063e-21 2.61118467e-21 2.03427663e-21 9.94191572e-19\n",
      " 1.19026555e-19 2.14594887e-20 7.95964164e-21 4.28047766e-21\n",
      " 2.91134515e-21 2.40700948e-21 2.35679743e-20 9.92640458e-21\n",
      " 5.60996342e-21 3.77055374e-21 2.95640296e-21 1.03680210e-21\n",
      " 6.05919494e-22 4.37100824e-22 3.72449707e-22 1.22244730e-22\n",
      " 8.92596240e-23 4.18057968e-23 7.59711488e-20 8.52650076e-20\n",
      " 1.08783288e-20 2.05918346e-21 7.59549652e-22 3.91157923e-22\n",
      " 2.48239128e-22 1.85125800e-22 1.60115127e-22 1.02853870e-19\n",
      " 1.21750375e-20 2.16576134e-21 7.90061807e-22 4.15475177e-22\n",
      " 2.73085098e-22 2.13495981e-22 2.38505281e-21 9.89716042e-22\n",
      " 5.48636713e-22 3.58722971e-22 2.69391607e-22 2.32768200e-22\n",
      " 1.01805600e-22 5.81048658e-23 4.04565899e-23 3.26727915e-23\n",
      " 1.14088212e-23 7.94639503e-24 6.74290829e-24 3.48498458e-24\n",
      " 8.12382554e-21 9.03496398e-21 1.14069293e-21 2.13294379e-22\n",
      " 7.75329075e-23 3.92147339e-23 2.43071239e-23 1.75338729e-23\n",
      " 1.44508648e-23 1.08116825e-20 1.26656174e-21 2.22589608e-22\n",
      " 8.00243446e-23 4.13075230e-23 2.64482537e-23 1.98525788e-23\n",
      " 1.72142949e-23 2.45668087e-22 1.00610246e-22 5.48641189e-23\n",
      " 3.50932300e-23 2.55138052e-23 2.09863961e-23 1.02114714e-23\n",
      " 5.71626573e-24 3.87269405e-24 3.00283483e-24 2.64512367e-24\n",
      " 1.09832590e-24 7.38480861e-25 5.94770668e-25 3.09686235e-25\n",
      " 2.55676152e-25 8.80170022e-22 9.70713376e-22 1.21393511e-22\n",
      " 2.24508684e-23 8.05639574e-24 4.01210638e-24 2.43892151e-24\n",
      " 1.71384015e-24 1.36105440e-24 1.21417662e-24 1.15281180e-21\n",
      " 1.33765118e-22 2.32516502e-23 8.25185610e-24 4.19233010e-24\n",
      " 2.62835997e-24 1.91332563e-24 1.58437681e-24 2.57083184e-23\n",
      " 1.04050662e-23 5.59373460e-24 3.51358800e-24 2.49090564e-24\n",
      " 1.97360821e-24 1.75352850e-24 1.04355549e-24 5.74691767e-25\n",
      " 3.80920669e-25 2.86253021e-25 2.41097097e-25 1.08461378e-25\n",
      " 7.09600473e-26 5.49233865e-26 4.85713584e-26 2.87933901e-26\n",
      " 2.25156249e-26 1.40828492e-26 9.64859195e-23 1.05592237e-22\n",
      " 1.30905338e-23 2.39710227e-24 8.50378362e-25 4.17801553e-25\n",
      " 2.49823118e-25 1.71860736e-25 1.32573920e-25 1.13629872e-25\n",
      " 1.24505473e-22 1.43204146e-23 2.46449632e-24 8.64559753e-25\n",
      " 4.33195605e-25 2.66879856e-25 1.89667847e-25 1.51652179e-25\n",
      " 1.35657252e-25 2.72886087e-24 1.09276581e-24 5.80127849e-25\n",
      " 3.58812624e-25 2.49260186e-25 1.91864589e-25 1.63528255e-25\n",
      " 1.08426956e-25 5.88736371e-26 3.83240258e-26 2.80966948e-26\n",
      " 2.28479198e-26 2.06006840e-26 1.09433833e-26 7.00454486e-27\n",
      " 5.25687235e-27 4.45360202e-27 2.77057233e-27 2.08087983e-27\n",
      " 1.82290913e-27 1.23033408e-27 1.06892004e-23 1.16147474e-23\n",
      " 1.42847259e-24 2.59233797e-25 9.10228146e-26 4.41899276e-26\n",
      " 2.60500656e-26 1.76062000e-26 1.32685380e-26 1.10173950e-26\n",
      " 1.00477326e-26 1.36032504e-23 1.55199610e-24 2.64667338e-25\n",
      " 9.18820942e-26 4.54784830e-26 2.76028985e-26 1.92387708e-26\n",
      " 1.49691702e-26 1.28856901e-26 2.93409716e-25 1.16363711e-25\n",
      " 6.10858751e-26 3.72790145e-26 2.54634088e-26 1.91559983e-26\n",
      " 1.58034584e-26 1.43393032e-26 1.14339511e-26 6.13182208e-27\n",
      " 3.93083462e-27 2.82463246e-27 2.23414386e-27 1.93935719e-27\n",
      " 1.12483264e-27 7.07069386e-28 5.17818681e-28 4.24049201e-28\n",
      " 3.84511791e-28 2.73982113e-28 1.99495030e-28 1.67361470e-28\n",
      " 1.13354019e-28 9.75444433e-29] 0.9999999999478627\n",
      "Wall time: 1min 47s\n"
     ]
    }
   ],
   "source": [
    "%%time\n",
    "solution, eigen = power_method(normalized)\n",
    "print(solution, eigen)"
   ]
  },
  {
   "cell_type": "code",
   "execution_count": 19,
   "metadata": {},
   "outputs": [
    {
     "name": "stdout",
     "output_type": "stream",
     "text": [
      "[9.99921729e-01 1.25075734e-02 2.19525963e-04 2.19266010e-04\n",
      " 7.57406308e-06 8.69729867e-06 7.56174677e-06 3.70827470e-07\n",
      " 4.60194717e-07 9.08651293e-08 4.59921448e-07 2.23444563e-08\n",
      " 2.84718347e-08 4.88827735e-09 3.19431456e-08 4.88625766e-09\n",
      " 1.54409301e-09 1.97057672e-09 3.15541412e-10 9.21236323e-11\n",
      " 2.36588076e-09 3.34887160e-10 9.19882941e-11 1.17595505e-10\n",
      " 1.48647235e-10 2.27291997e-11 5.76265134e-12 1.84890772e-10\n",
      " 2.53668102e-11 6.13176561e-12 6.12489622e-12 9.62986532e-12\n",
      " 1.20022969e-11 1.77217541e-12 4.15350115e-13 2.19880179e-13\n",
      " 1.51639793e-11 2.03305101e-12 4.41207587e-13 4.60254757e-13\n",
      " 2.63779640e-13 8.34216699e-13 1.02372980e-12 1.46919904e-13\n",
      " 3.26846750e-14 1.54016639e-14 1.29877035e-12 1.70608398e-13\n",
      " 3.51569032e-14 1.70517232e-14 3.72297133e-14 1.91685124e-14\n",
      " 2.54487421e-15 7.55848269e-14 9.13315149e-14 1.27963734e-14\n",
      " 2.73944737e-15 1.20189116e-15 8.16731565e-16 1.15595910e-13\n",
      " 1.49021741e-14 2.96793195e-15 1.29993524e-15 3.17314819e-15\n",
      " 1.53087203e-15 1.09649632e-15 1.87059294e-16 7.10418873e-15\n",
      " 8.45829638e-15 1.16076347e-15 2.41103834e-16 1.00733162e-16\n",
      " 6.24250177e-17 1.06423536e-14 1.34834140e-15 2.61523282e-16\n",
      " 1.08169689e-16 7.13103248e-17 2.81767239e-16 1.30202447e-16\n",
      " 8.55336851e-17 1.50877584e-17 1.08484061e-17 6.88409285e-16\n",
      " 8.08380716e-16 1.08940884e-16 2.20753580e-17 8.89419239e-18\n",
      " 5.18451799e-18 3.98865437e-18 1.00928096e-15 1.25839697e-16\n",
      " 2.38738275e-17 9.50516149e-18 5.75620202e-18 2.58860899e-17\n",
      " 1.15937868e-17 7.19277401e-18 5.65482167e-18 1.29485179e-18\n",
      " 8.58221842e-19 2.03087691e-19 6.84511631e-17 7.93600028e-17\n",
      " 1.05245304e-17 2.08867019e-18 8.17850171e-19 4.56426802e-19\n",
      " 3.26348631e-19 9.82391779e-17 1.20697057e-17 2.24643287e-18\n",
      " 8.69218574e-19 4.98943473e-19 3.81048020e-19 2.44848441e-18\n",
      " 1.07021918e-18 6.37936730e-19 4.67230037e-19 1.16292634e-19\n",
      " 7.28918923e-20 5.88627000e-20 1.60076155e-20 6.95838821e-18\n",
      " 7.97304321e-18 1.04234375e-18 2.03190073e-19 7.77275980e-20\n",
      " 4.19746340e-20 2.84995275e-20 2.35521532e-20 9.78346750e-18\n",
      " 1.18588062e-18 2.17032056e-19 8.20689608e-20 4.53882993e-20\n",
      " 3.23599027e-20 2.37550202e-19 1.01772872e-19 5.88841364e-20\n",
      " 4.10347311e-20 3.41217763e-20 1.08220159e-20 6.51743668e-21\n",
      " 4.93046473e-21 1.36245676e-21 1.06212724e-21 7.21017007e-19\n",
      " 8.17283023e-19 1.05484232e-19 2.02441260e-20 7.59379737e-21\n",
      " 3.99530158e-21 2.61118529e-21 2.03427712e-21 9.94191572e-19\n",
      " 1.19026900e-19 2.14594945e-20 7.95964362e-21 4.28047870e-21\n",
      " 2.91134586e-21 2.40701007e-21 2.35679808e-20 9.92640463e-21\n",
      " 5.60996344e-21 3.77055375e-21 2.95640297e-21 1.03680457e-21\n",
      " 6.05921051e-22 4.37101966e-22 3.72450683e-22 1.22244760e-22\n",
      " 8.92596464e-23 4.18058065e-23 7.59711680e-20 8.52650079e-20\n",
      " 1.08783579e-20 2.05918399e-21 7.59549833e-22 3.91158016e-22\n",
      " 2.48239186e-22 1.85125845e-22 1.60115166e-22 1.02853870e-19\n",
      " 1.21750728e-20 2.16576193e-21 7.90062003e-22 4.15475278e-22\n",
      " 2.73085164e-22 2.13496033e-22 2.38505347e-21 9.89716048e-22\n",
      " 5.48636715e-22 3.58722973e-22 2.69391608e-22 2.32768200e-22\n",
      " 1.01805843e-22 5.81050152e-23 4.04566956e-23 3.26728772e-23\n",
      " 1.14088240e-23 7.94639702e-24 6.74290998e-24 3.48498539e-24\n",
      " 8.12382759e-21 9.03496401e-21 1.14069599e-21 2.13294434e-22\n",
      " 7.75329260e-23 3.92147431e-23 2.43071297e-23 1.75338771e-23\n",
      " 1.44508683e-23 1.08116825e-20 1.26656541e-21 2.22589669e-22\n",
      " 8.00243645e-23 4.13075330e-23 2.64482601e-23 1.98525836e-23\n",
      " 1.72142991e-23 2.45668155e-22 1.00610246e-22 5.48641191e-23\n",
      " 3.50932301e-23 2.55138053e-23 2.09863961e-23 1.02114958e-23\n",
      " 5.71628042e-24 3.87270417e-24 3.00284271e-24 2.64513062e-24\n",
      " 1.09832617e-24 7.38481046e-25 5.94770817e-25 3.09686306e-25\n",
      " 2.55676212e-25 8.80170245e-22 9.70713379e-22 1.21393836e-22\n",
      " 2.24508742e-23 8.05639765e-24 4.01210733e-24 2.43892209e-24\n",
      " 1.71384056e-24 1.36105473e-24 1.21417692e-24 1.15281180e-21\n",
      " 1.33765506e-22 2.32516565e-23 8.25185815e-24 4.19233112e-24\n",
      " 2.62836061e-24 1.91332609e-24 1.58437719e-24 2.57083255e-23\n",
      " 1.04050662e-23 5.59373462e-24 3.51358801e-24 2.49090565e-24\n",
      " 1.97360821e-24 1.75352850e-24 1.04355798e-24 5.74693245e-25\n",
      " 3.80921665e-25 2.86253772e-25 2.41097730e-25 1.08461405e-25\n",
      " 7.09600650e-26 5.49234003e-26 4.85713706e-26 2.87933967e-26\n",
      " 2.25156302e-26 1.40828524e-26 9.64859439e-23 1.05592237e-22\n",
      " 1.30905688e-23 2.39710289e-24 8.50378565e-25 4.17801651e-25\n",
      " 2.49823177e-25 1.71860777e-25 1.32573952e-25 1.13629899e-25\n",
      " 1.24505473e-22 1.43204562e-23 2.46449699e-24 8.64559968e-25\n",
      " 4.33195711e-25 2.66879921e-25 1.89667893e-25 1.51652216e-25\n",
      " 1.35657285e-25 2.72886162e-24 1.09276581e-24 5.80127851e-25\n",
      " 3.58812625e-25 2.49260186e-25 1.91864589e-25 1.63528256e-25\n",
      " 1.08427215e-25 5.88737884e-26 3.83241259e-26 2.80967686e-26\n",
      " 2.28479799e-26 2.06007381e-26 1.09433861e-26 7.00454662e-27\n",
      " 5.25687367e-27 4.45360314e-27 2.77057297e-27 2.08088031e-27\n",
      " 1.82290955e-27 1.23033436e-27 1.06892031e-23 1.16147474e-23\n",
      " 1.42847642e-24 2.59233864e-25 9.10228363e-26 4.41899380e-26\n",
      " 2.60500718e-26 1.76062043e-26 1.32685412e-26 1.10173977e-26\n",
      " 1.00477350e-26 1.36032504e-23 1.55200061e-24 2.64667410e-25\n",
      " 9.18821171e-26 4.54784941e-26 2.76029052e-26 1.92387755e-26\n",
      " 1.49691739e-26 1.28856932e-26 2.93409797e-25 1.16363712e-25\n",
      " 6.10858753e-26 3.72790146e-26 2.54634089e-26 1.91559984e-26\n",
      " 1.58034585e-26 1.43393033e-26 1.14339785e-26 6.13183784e-27\n",
      " 3.93084490e-27 2.82463988e-27 2.23414973e-27 1.93936229e-27\n",
      " 1.12483292e-27 7.07069563e-28 5.17818812e-28 4.24049307e-28\n",
      " 3.84511888e-28 2.73982176e-28 1.99495076e-28 1.67361509e-28\n",
      " 1.13354045e-28 9.75444657e-29] 0.9999999999488088\n",
      "Wall time: 1min 38s\n"
     ]
    }
   ],
   "source": [
    "%%time\n",
    "solution2, eigen2 = power_method_2(normalized)\n",
    "print(solution2, eigen2)"
   ]
  },
  {
   "cell_type": "code",
   "execution_count": 25,
   "metadata": {},
   "outputs": [
    {
     "name": "stdout",
     "output_type": "stream",
     "text": [
      "7.14142842854285\n",
      "7.14142842854285\n"
     ]
    }
   ],
   "source": [
    "a = np.array([1,3,4,5])\n",
    "print(np.linalg.norm(a))\n",
    "print(np.dot(a, a)**0.5)"
   ]
  },
  {
   "cell_type": "code",
   "execution_count": null,
   "metadata": {},
   "outputs": [],
   "source": []
  },
  {
   "cell_type": "code",
   "execution_count": 3,
   "metadata": {},
   "outputs": [],
   "source": [
    "equ = False\n",
    "Te = 0.5\n",
    "ne = 0.001\n",
    "\n",
    "fermi_LA = Fermi(states3, equ=equ, Te=Te, ne=ne)\n",
    "scores, population = fermi_LA.calc_distribution()\n",
    "x = fermi_LA._solve_equation()"
   ]
  },
  {
   "cell_type": "code",
   "execution_count": 4,
   "metadata": {},
   "outputs": [],
   "source": [
    "fermi_power = Fermi(states3, equ=equ, Te=Te, ne=ne)\n",
    "scores_power, population_power = fermi_power.calc_distribution(use_power=True)\n",
    "x_power = fermi_power._solve_equation(use_power=True)\n",
    "\n",
    "fermi_power_equ = Fermi(states3, equ=True, Te=Te, ne=1000000)\n",
    "scores_power_equ, population_power_equ = fermi_power_equ.calc_distribution(use_power=True)\n",
    "x_power_equ = fermi_power_equ._solve_equation(use_power=True)\n",
    "\n",
    "fermi_equ = Fermi(states3, equ=True, Te=Te, ne=1000000)\n",
    "scores_equ, population_equ = fermi_equ.calc_distribution(use_power=False)\n",
    "x_equ = fermi_equ._solve_equation(use_power=False)"
   ]
  },
  {
   "cell_type": "code",
   "execution_count": 6,
   "metadata": {},
   "outputs": [
    {
     "name": "stdout",
     "output_type": "stream",
     "text": [
      "excitation matrix: 0.00013533528323661270275\n",
      "excitation matrix(/ne): 0.13533528323661270232\n",
      "deexcitation matrix: 0.0010000000000000000208\n",
      "emission matrix(mean): 17.124840048687619998\n",
      "emission matrix(max): 8000\n",
      "\n",
      "excitation, deexcitationはneの桁数に比例して桁数が小さくなっていくだけ。\n",
      "emissionはneに関係なく常にこの値。\n",
      "\n"
     ]
    }
   ],
   "source": [
    "print(\"excitation matrix: {:.20g}\".format(np.max(fermi_LA.excitation)))\n",
    "print(\"excitation matrix(/ne): {:.20g}\".format(np.max(fermi_LA.excitation / fermi_LA.ne)))\n",
    "print(\"deexcitation matrix: {:.20g}\".format(np.max(fermi_LA.deexcitation)))\n",
    "print(\"emission matrix(mean): {:.20g}\".format(np.mean(fermi_LA.emission)))\n",
    "print(\"emission matrix(max): {:.20g}\".format(np.max(fermi_LA.emission)))\n",
    "print('''\n",
    "excitation, deexcitationはneの桁数に比例して桁数が小さくなっていくだけ。\n",
    "emissionはneに関係なく常にこの値。\n",
    "''')"
   ]
  },
  {
   "cell_type": "code",
   "execution_count": 35,
   "metadata": {},
   "outputs": [
    {
     "data": {
      "text/plain": [
       "0.30000000000000004"
      ]
     },
     "execution_count": 35,
     "metadata": {},
     "output_type": "execute_result"
    }
   ],
   "source": [
    "a = np.longdouble(0.1)\n",
    "b = np.longdouble(0.1)\n",
    "c = np.longdouble(0.1)\n",
    "a + b + c"
   ]
  },
  {
   "cell_type": "code",
   "execution_count": 14,
   "metadata": {},
   "outputs": [],
   "source": [
    "coeff = fermi_LA.coeff\n",
    "excitation = fermi_LA.excitation\n",
    "deexcitation = fermi_LA.deexcitation\n",
    "emission = fermi_LA.emission\n",
    "C_ = np.diag(sum_along_axis(excitation, 1))\n",
    "A_ = np.diag(sum_along_axis(deexcitation, 0))\n",
    "F_ = np.diag(sum_along_axis(emission, 0))\n",
    "normalized = -coeff / np.max(np.abs(np.diag(coeff))) + np.eye(coeff.shape[0])"
   ]
  },
  {
   "cell_type": "code",
   "execution_count": 15,
   "metadata": {},
   "outputs": [
    {
     "name": "stdout",
     "output_type": "stream",
     "text": [
      "coeffを正規化したときの対角成分の絶対値の最大値(単位行列を足す前): \n",
      "                     1.0\n"
     ]
    }
   ],
   "source": [
    "print('''coeffを正規化したときの対角成分の絶対値の最大値(単位行列を足す前): \n",
    "                    ''',\n",
    "      np.max(np.diag(coeff / np.max(np.abs(np.diag(coeff))))))"
   ]
  },
  {
   "cell_type": "code",
   "execution_count": 16,
   "metadata": {},
   "outputs": [
    {
     "name": "stdout",
     "output_type": "stream",
     "text": [
      "0.0\n"
     ]
    }
   ],
   "source": [
    "# diagonal = np.abs(np.diag(normalized))\n",
    "diagonal = np.diag(normalized)\n",
    "print(np.min(diagonal))"
   ]
  },
  {
   "cell_type": "code",
   "execution_count": 17,
   "metadata": {},
   "outputs": [],
   "source": [
    "coeff_abs = np.abs(coeff)\n",
    "coeff_larger_zero = coeff_abs[coeff_abs > 0]"
   ]
  },
  {
   "cell_type": "code",
   "execution_count": 18,
   "metadata": {},
   "outputs": [
    {
     "name": "stdout",
     "output_type": "stream",
     "text": [
      "min in coeff_abs: 4.248354255291589244103453e-21\n",
      "max in coeff: 44100.01999999999679857865\n",
      "max in excitation:  0.0001353352832366127\n"
     ]
    }
   ],
   "source": [
    "print(\"min in coeff_abs: {:.25g}\".format(np.min(coeff_larger_zero)))\n",
    "print(\"max in coeff: {:.25g}\".format(np.max(coeff_larger_zero)))\n",
    "print(\"max in excitation: \", np.max(excitation))"
   ]
  },
  {
   "cell_type": "code",
   "execution_count": 19,
   "metadata": {},
   "outputs": [],
   "source": [
    "# どこでcoeffは最大値をとるのかを特定し、44100.01999999が誤差なのかどうかを見極める\n",
    "max_loc = np.unravel_index(np.argmax(coeff), coeff.shape)"
   ]
  },
  {
   "cell_type": "code",
   "execution_count": 20,
   "metadata": {},
   "outputs": [
    {
     "name": "stdout",
     "output_type": "stream",
     "text": [
      "44100.01999999999679857865\n",
      "0\n",
      "0\n",
      "0\n",
      "0\n",
      "0.02000000000000000041633363\n",
      "44100\n"
     ]
    }
   ],
   "source": [
    "print(\"{:.25g}\".format(coeff[max_loc]))\n",
    "print(\"{:.25g}\".format(excitation[max_loc]))\n",
    "print(\"{:.25g}\".format(deexcitation[max_loc]))\n",
    "print(\"{:.25g}\".format(emission[max_loc]))\n",
    "print(\"{:.25g}\".format(C_[max_loc]))\n",
    "print(\"{:.25g}\".format(A_[max_loc]))\n",
    "print(\"{:.25g}\".format(F_[max_loc]))"
   ]
  },
  {
   "cell_type": "code",
   "execution_count": 21,
   "metadata": {},
   "outputs": [
    {
     "data": {
      "text/plain": [
       "44100.02"
      ]
     },
     "execution_count": 21,
     "metadata": {},
     "output_type": "execute_result"
    }
   ],
   "source": [
    "a = A_ + F_\n",
    "a[max_loc]"
   ]
  },
  {
   "cell_type": "code",
   "execution_count": 22,
   "metadata": {},
   "outputs": [
    {
     "name": "stdout",
     "output_type": "stream",
     "text": [
      "max in coeff: 44100.01999999999679857865\n"
     ]
    }
   ],
   "source": [
    "print(\"max in coeff: {:.25g}\".format(coeff[max_loc]))"
   ]
  },
  {
   "cell_type": "code",
   "execution_count": 24,
   "metadata": {},
   "outputs": [
    {
     "name": "stdout",
     "output_type": "stream",
     "text": [
      "44100.01999999999679857865\n"
     ]
    }
   ],
   "source": [
    "print(\"{:.25g}\".format(44100.0 + 0.0200000000000000004))"
   ]
  },
  {
   "cell_type": "code",
   "execution_count": null,
   "metadata": {},
   "outputs": [],
   "source": []
  },
  {
   "cell_type": "code",
   "execution_count": null,
   "metadata": {},
   "outputs": [],
   "source": []
  },
  {
   "cell_type": "code",
   "execution_count": null,
   "metadata": {},
   "outputs": [],
   "source": []
  },
  {
   "cell_type": "code",
   "execution_count": 25,
   "metadata": {},
   "outputs": [
    {
     "name": "stdout",
     "output_type": "stream",
     "text": [
      "excitationの0より大きい要素の最小値: 4.248354255291589244103453e-21\n"
     ]
    }
   ],
   "source": [
    "# excitationの0より大きい要素の最小値は何か\n",
    "print(\"excitationの0より大きい要素の最小値: {:.25g}\".format(np.min(excitation[excitation > 0])))"
   ]
  },
  {
   "cell_type": "code",
   "execution_count": 26,
   "metadata": {},
   "outputs": [
    {
     "name": "stdout",
     "output_type": "stream",
     "text": [
      "最大の総エネルギー差におけるexcitationの要素の値:  4.248354255291589e-21\n"
     ]
    }
   ],
   "source": [
    "# 最大の総エネルギー(score)差があるときexcitationの値は最小になる\n",
    "print(\"最大の総エネルギー差におけるexcitationの要素の値: \", ne * np.exp(-(23-3)/Te))"
   ]
  },
  {
   "cell_type": "code",
   "execution_count": 27,
   "metadata": {},
   "outputs": [
    {
     "name": "stdout",
     "output_type": "stream",
     "text": [
      "normalizedの正の最小値: 9.633451992292950364035453e-26\n",
      "normalizedの最大値: 0.9999999959055183573752856\n",
      "\n",
      "normalizedの最大値は、coeffの対角成分が最も小さかった要素の位置に存在する\n"
     ]
    }
   ],
   "source": [
    "normalized_min = np.min(normalized[normalized > 0])\n",
    "print(\"normalizedの正の最小値: {:.25g}\".format(normalized_min))\n",
    "print(\"normalizedの最大値: {:.25g}\".format(np.max(normalized)))\n",
    "\n",
    "print(\"\\nnormalizedの最大値は、coeffの対角成分が最も小さかった要素の位置に存在する\")"
   ]
  },
  {
   "cell_type": "markdown",
   "metadata": {},
   "source": [
    "## 実験結果\n",
    "---\n",
    "* 当たり前やけど、coeffの中で絶対値が最小の正の要素はexcitationの最小の正の要素と値が等しい\n",
    "* emissionの計算では計算誤差はない(intなので。)\n",
    "* $n_e=0.001$のとき、coeffの中で最小値は10^-21のオーダーだが最大値は44100.01999999999679857865という値\n",
    "  * 最大値の 019999999 のとこは 02 の計算誤差っぽいけど、この計算誤差のオーダーよりexcitationの最小値の値のほうが小さい。つまりexcitationの値に対して計算誤差のオーダーがかなり大きい。\n",
    "  * excitationの最小値のオーダーはやたら小さいが、これは $ \\exp(-(23-3)/T_e) $ (総エネルギー差が最大の時excitationの値は最小値をとる)の計算結果なので、0の誤差とかではない\n",
    "* normalizedの最小値は 9.633451992292950364035453e-26\n",
    "* normalizedの最大値は 0.9999999959055183573752856\n",
    "  * = (単位行列) - (coeffの対角成分の最小値)\n",
    "* coeffを対角成分の最大値で正規化したときの対角成分の最大値はちゃんと1になっていた。\n",
    "  * 割り算の部分では基本的に計算誤差は起こっていないものとみてよさそう\n",
    "\n",
    "<br>\n",
    "\n",
    "* np.linalg.norm()は信頼していい"
   ]
  },
  {
   "cell_type": "code",
   "execution_count": 28,
   "metadata": {},
   "outputs": [
    {
     "name": "stdout",
     "output_type": "stream",
     "text": [
      "(314, 314)\n"
     ]
    }
   ],
   "source": [
    "# coeffの最大値は 44100.0199999999なので、どこから計算誤差が生まれているのかを検証する\n",
    "\n",
    "coeff_max_loc: tuple = list(zip(*np.where(coeff == np.max(coeff))))[0]\n",
    "print(coeff_max_loc)  # (314, 314)\n",
    "\n",
    "# 対角成分で計算誤差が生じている"
   ]
  },
  {
   "cell_type": "code",
   "execution_count": 43,
   "metadata": {},
   "outputs": [],
   "source": [
    "# C_ = np.diag(excitation.sum(axis=1))\n",
    "C_ = np.diag(Fermi.sum_along_axis(excitation, 1))\n",
    "# F_ = np.diag(deexcitation.sum(axis=0))\n",
    "F_ = np.diag(Fermi.sum_along_axis(deexcitation, 0))\n",
    "# A_ = np.diag(emission.sum(axis=0))\n",
    "A_ = np.diag(Fermi.sum_along_axis(emission, 0))"
   ]
  },
  {
   "cell_type": "code",
   "execution_count": 29,
   "metadata": {},
   "outputs": [
    {
     "name": "stdout",
     "output_type": "stream",
     "text": [
      "これが誤差を生んでる原因\n",
      "deexcitation.sum(axis=0)[314]:  0.02000000000000001\n",
      "np.sum(deexcitation[:, 314]):  0.02\n"
     ]
    }
   ],
   "source": [
    "print(\"これが誤差を生んでる原因\")\n",
    "print(\"deexcitation.sum(axis=0)[314]: \", deexcitation.sum(axis=0)[314])\n",
    "print(\"np.sum(deexcitation[:, 314]): \", np.sum(deexcitation[:, 314]))"
   ]
  },
  {
   "cell_type": "markdown",
   "metadata": {},
   "source": [
    "<br>\n",
    "<br>\n",
    "\n",
    "## 計算誤差の削減にやったこと\n",
    "---\n",
    "* `ndarray.sum(axis=0)`や`np.sum(ndarray, axis=0)`ではF_の計算時に誤差が出たため、新たに`sum_along_axis()`を定義し、メソッド内部ではnumpyの`np.apply_along_axis()`を使用\n",
    "    * `ndarray.sum(axis=0)`では、0.02となるべきところで、0.02000000000000001という誤差が生じた\n",
    "    * この誤差はexcitationの要素の値に比べるとかなり大きいオーダー\n",
    "\n",
    "<br>\n",
    "\n",
    "* べき乗法で返す値が間違っていたので修正\n",
    "  * `x`を返すべきなのに、`y=A^(k+1)@x`を返してた。。\n",
    "<br>\n",
    "\n",
    "## 解決していない問題点\n",
    "---\n",
    "* べき乗法では誤差が大きい\n",
    "  * 固有値が 1 となってほしいところが、0.999999999946445283782736623834となる(eigen - eigen_pastが1e-15未満になったときに終了)\n",
    "  * (eigen - eigen_past) の条件をもっと厳しくすればいいかもしれへんけど、この時点で実行時間が1min超えてくるからこれより厳しくするのは時間的に厳しい\n",
    "\n",
    "<br>\n",
    "\n",
    "* `np.linalg.eig()` を使用すると誤差が大きそう\n",
    "  * 固有ベクトルの各値にどの程度誤差があるのかはわからない。\n",
    "  * 固有値は 1.00000000000000044408920985006 となったので、誤差のオーダーは15桁なので、べき乗法よりは誤差は小さそう。\n",
    "  * `eig()`を使うと固有値は 1.0000000000000004 となるが、`eigvals()`を使うと、0.9999999999999998 と求まる。両方numpyを使ってるのに計算誤差の起こり方が違う\n",
    "  * `np.linalg.eig()`を使ったときも、最後に `return x / np.sum(x)` してるのに、`np.sum(x)`すると0.99999999999999988898となり、合計値が1にならない\n",
    "    * 占有密度の合計がぴったり100%にはならない\n",
    "\n",
    "<br>\n",
    "\n",
    "* `np.linalg.eig()` を使ったときとべき乗法で求めたときの占有密度分布の形がかなり異なる\n",
    "  * **どっちが正しいかは `np.dot(coeff, x)` でどちらが零ベクトルとの誤差が小さいかで判断すればよいのでは？**\n",
    "    * 結果としては、`np.linalg.eig()`を用いたほうが零ベクトルとの誤差が小さい(平均値や分散が小さい)が、グラフを見た感じでは、`power_method()`使ったほうが正しそうな気がする。\n",
    "    * 最小値は`power_method()`を使ったほうが小さい。ただ絶対値が大きいものがいくつかあるのが気になる。\n",
    "  * **べき乗法を高速化したいなぁ**\n",
    "\n",
    "<br>\n",
    "\n",
    "## **やりたいこと**\n",
    "---\n",
    "* **べき乗法の高速化**\n",
    "* **平衡状態での、総エネルギーが4のときの凹みの検証**\n",
    "  * これは藤井先生の方法で検証したらそれが正しいのかおかしいのかがわかるかも\n",
    "\n",
    "<br>\n",
    "\n",
    "* sympy使う → 遅すぎるからなぁ...\n",
    "* float64 -> float128を使う\n",
    "  * メモリを2倍食うから重そう。やってみてもいいけど変わるかは怪しい。floatで表せる最大桁よりももっと大きい桁のオーダーで誤差が生まれているから。\n",
    "\n",
    "\n",
    "<br>\n",
    "<br>\n",
    "<br>"
   ]
  },
  {
   "cell_type": "code",
   "execution_count": 30,
   "metadata": {},
   "outputs": [
    {
     "name": "stdout",
     "output_type": "stream",
     "text": [
      "np.linalg.eig()を使った固有値の計算結果(expected 1)\n"
     ]
    },
    {
     "ename": "AttributeError",
     "evalue": "'Fermi' object has no attribute 'eigen'",
     "output_type": "error",
     "traceback": [
      "\u001b[1;31m---------------------------------------------------------------------------\u001b[0m",
      "\u001b[1;31mAttributeError\u001b[0m                            Traceback (most recent call last)",
      "\u001b[1;32mC:\\Users\\GENKIK~1\\AppData\\Local\\Temp/ipykernel_19648/2983467621.py\u001b[0m in \u001b[0;36m<module>\u001b[1;34m\u001b[0m\n\u001b[0;32m      1\u001b[0m \u001b[0mprint\u001b[0m\u001b[1;33m(\u001b[0m\u001b[1;34m\"np.linalg.eig()を使った固有値の計算結果(expected 1)\"\u001b[0m\u001b[1;33m)\u001b[0m\u001b[1;33m\u001b[0m\u001b[1;33m\u001b[0m\u001b[0m\n\u001b[1;32m----> 2\u001b[1;33m \u001b[0mprint\u001b[0m\u001b[1;33m(\u001b[0m\u001b[1;34m\"{:.30g}\"\u001b[0m\u001b[1;33m.\u001b[0m\u001b[0mformat\u001b[0m\u001b[1;33m(\u001b[0m\u001b[0mfermi_LA\u001b[0m\u001b[1;33m.\u001b[0m\u001b[0meigen\u001b[0m\u001b[1;33m)\u001b[0m\u001b[1;33m)\u001b[0m\u001b[1;33m\u001b[0m\u001b[1;33m\u001b[0m\u001b[0m\n\u001b[0m",
      "\u001b[1;31mAttributeError\u001b[0m: 'Fermi' object has no attribute 'eigen'"
     ]
    }
   ],
   "source": [
    "print(\"np.linalg.eig()を使った固有値の計算結果(expected 1)\")\n",
    "print(\"{:.30g}\".format(fermi_LA.eigen))"
   ]
  },
  {
   "cell_type": "code",
   "execution_count": null,
   "metadata": {},
   "outputs": [
    {
     "name": "stdout",
     "output_type": "stream",
     "text": [
      "べき乗法を使った固有値の計算結果(expected 1)\n",
      "0.999999999946445283782736623834\n"
     ]
    }
   ],
   "source": [
    "print(\"べき乗法を使った固有値の計算結果(expected 1)\")\n",
    "print(\"{:.30g}\".format(fermi_power.eigen))"
   ]
  },
  {
   "cell_type": "code",
   "execution_count": null,
   "metadata": {},
   "outputs": [
    {
     "name": "stdout",
     "output_type": "stream",
     "text": [
      "np.linalg.eig()で求めた固有値:  1.0000000000000004\n",
      "np.linalg.eigvals()で求めた固有値:  0.9999999999999998\n",
      "求めたいんは固有ベクトルやから、結局使うのはeig()の方やけど\n"
     ]
    }
   ],
   "source": [
    "print(\"np.linalg.eig()で求めた固有値: \", np.max(np.linalg.eig(normalized)[0]))\n",
    "print(\"np.linalg.eigvals()で求めた固有値: \", np.max(np.linalg.eigvals(normalized)))\n",
    "print(\"求めたいんは固有ベクトルやから、結局使うのはeig()の方やけど\")"
   ]
  },
  {
   "cell_type": "code",
   "execution_count": 31,
   "metadata": {},
   "outputs": [
    {
     "name": "stdout",
     "output_type": "stream",
     "text": [
      "0.999855183356966326080339513283\n",
      "0.999855183356966215058037050767\n",
      "np.linalg.norm()は信頼できる\n"
     ]
    }
   ],
   "source": [
    "# np.linalg.norm()を使った計算\n",
    "print(\"{:.30g}\".format(np.linalg.norm(normalized@x)))\n",
    "\n",
    "# 自分でノルムを計算した結果\n",
    "eigen = normalized@x\n",
    "sum_square = 0\n",
    "for val in eigen:\n",
    "    sum_square += val**2\n",
    "print(\"{:.30g}\".format(sum_square**0.5))\n",
    "print(\"np.linalg.norm()は信頼できる\")"
   ]
  },
  {
   "cell_type": "code",
   "execution_count": 32,
   "metadata": {},
   "outputs": [
    {
     "name": "stdout",
     "output_type": "stream",
     "text": [
      "0.99999999999999988898\n"
     ]
    }
   ],
   "source": [
    "print(\"{:.20g}\".format(np.sum(x)))"
   ]
  },
  {
   "cell_type": "code",
   "execution_count": 33,
   "metadata": {},
   "outputs": [
    {
     "name": "stdout",
     "output_type": "stream",
     "text": [
      "1\n"
     ]
    }
   ],
   "source": [
    "print(\"{:.20g}\".format(np.sum(x_power)))"
   ]
  },
  {
   "cell_type": "code",
   "execution_count": 34,
   "metadata": {},
   "outputs": [
    {
     "data": {
      "image/png": "[encoded data removed]",
      "text/plain": [
       "<Figure size 432x288 with 1 Axes>"
      ]
     },
     "metadata": {
      "needs_background": "light"
     },
     "output_type": "display_data"
    }
   ],
   "source": [
    "plt.plot(scores, population, label=\"ne=0.001 with LA\", marker='.')\n",
    "plt.plot(scores_power, population_power, label=\"ne=0.001 with power method\", marker='.')\n",
    "plt.plot(scores_equ, population_equ, label=\"equilibrium with LA\", marker='.')\n",
    "plt.plot(scores_power_equ, population_power_equ, label=\"equilibrium with power method\", marker='.')\n",
    "plt.legend(bbox_to_anchor=(1.05, 1), loc=\"upper left\", borderaxespad=0)\n",
    "plt.title(f\"equ = {equ}, T_e = {Te}, ne = {ne}\")\n",
    "plt.yscale(\"log\")\n",
    "# plt.ylim(1e-30, 5)\n",
    "plt.xlabel(\"total energy [ε]\")\n",
    "plt.ylabel(\"population [%] (log scale)\")\n",
    "plt.show()"
   ]
  },
  {
   "cell_type": "code",
   "execution_count": 39,
   "metadata": {},
   "outputs": [
    {
     "data": {
      "image/png": "[encoded data removed]",
      "text/plain": [
       "<Figure size 432x288 with 1 Axes>"
      ]
     },
     "metadata": {
      "needs_background": "light"
     },
     "output_type": "display_data"
    }
   ],
   "source": [
    "diff_LA = np.dot(coeff, x)\n",
    "plt.title(\"diff from zero vector when using coeff * eig()\")\n",
    "plt.hist(diff_LA, bins=100)\n",
    "plt.show()"
   ]
  },
  {
   "cell_type": "code",
   "execution_count": 36,
   "metadata": {},
   "outputs": [
    {
     "data": {
      "image/png": "[encoded data removed]",
      "text/plain": [
       "<Figure size 432x288 with 1 Axes>"
      ]
     },
     "metadata": {
      "needs_background": "light"
     },
     "output_type": "display_data"
    }
   ],
   "source": [
    "diff_power = np.dot(coeff, x_power)\n",
    "plt.title(\"diff from zero vector when using coeff * power_method()\")\n",
    "plt.hist(diff_power, bins=100)\n",
    "plt.show()"
   ]
  },
  {
   "cell_type": "code",
   "execution_count": 37,
   "metadata": {},
   "outputs": [
    {
     "data": {
      "text/plain": [
       "1.1748385606572143e-39"
      ]
     },
     "execution_count": 37,
     "metadata": {},
     "output_type": "execute_result"
    }
   ],
   "source": [
    "np.min(np.abs(diff_power))"
   ]
  },
  {
   "cell_type": "code",
   "execution_count": 40,
   "metadata": {},
   "outputs": [
    {
     "data": {
      "text/plain": [
       "1.6630037989373106e-24"
      ]
     },
     "execution_count": 40,
     "metadata": {},
     "output_type": "execute_result"
    }
   ],
   "source": [
    "np.min(np.abs(diff_LA))"
   ]
  },
  {
   "cell_type": "code",
   "execution_count": 41,
   "metadata": {},
   "outputs": [
    {
     "data": {
      "text/plain": [
       "3.1160047051451295e-14"
      ]
     },
     "execution_count": 41,
     "metadata": {},
     "output_type": "execute_result"
    }
   ],
   "source": [
    "np.var(diff_power)"
   ]
  },
  {
   "cell_type": "code",
   "execution_count": 42,
   "metadata": {},
   "outputs": [
    {
     "data": {
      "text/plain": [
       "1.7871027740263767e-22"
      ]
     },
     "execution_count": 42,
     "metadata": {},
     "output_type": "execute_result"
    }
   ],
   "source": [
    "np.var(diff_LA)"
   ]
  },
  {
   "cell_type": "code",
   "execution_count": 49,
   "metadata": {},
   "outputs": [],
   "source": [
    "xs = np.arange(5, 24)\n",
    "func = lambda x: 3*x**2 - 21*x + 37\n",
    "ys = func(xs)"
   ]
  },
  {
   "cell_type": "code",
   "execution_count": 50,
   "metadata": {},
   "outputs": [
    {
     "data": {
      "text/plain": [
       "array([   7,   19,   37,   61,   91,  127,  169,  217,  271,  331,  397,\n",
       "        469,  547,  631,  721,  817,  919, 1027, 1141])"
      ]
     },
     "execution_count": 50,
     "metadata": {},
     "output_type": "execute_result"
    }
   ],
   "source": [
    "ys"
   ]
  },
  {
   "cell_type": "code",
   "execution_count": 51,
   "metadata": {},
   "outputs": [
    {
     "data": {
      "text/plain": [
       "array([ 5,  6,  7,  8,  9, 10, 11, 12, 13, 14, 15, 16, 17, 18, 19, 20, 21,\n",
       "       22, 23])"
      ]
     },
     "execution_count": 51,
     "metadata": {},
     "output_type": "execute_result"
    }
   ],
   "source": [
    "\n",
    "xs\n"
   ]
  },
  {
   "cell_type": "code",
   "execution_count": 53,
   "metadata": {},
   "outputs": [
    {
     "data": {
      "image/png": "[encoded data removed]",
      "text/plain": [
       "<Figure size 432x288 with 1 Axes>"
      ]
     },
     "metadata": {
      "needs_background": "light"
     },
     "output_type": "display_data"
    }
   ],
   "source": [
    "plt.plot(xs, ys, marker='.')\n",
    "plt.show()"
   ]
  },
  {
   "cell_type": "code",
   "execution_count": null,
   "metadata": {},
   "outputs": [],
   "source": []
  }
 ],
 "metadata": {
  "interpreter": {
   "hash": "2d673306730d9b5f0e77e1316bce41ce05441d51c02a8855a8e9c77acd12801e"
  },
  "kernelspec": {
   "display_name": "Python 3.9.7 64-bit ('.venv': poetry)",
   "name": "python3"
  },
  "language_info": {
   "codemirror_mode": {
    "name": "ipython",
    "version": 3
   },
   "file_extension": ".py",
   "mimetype": "text/x-python",
   "name": "python",
   "nbconvert_exporter": "python",
   "pygments_lexer": "ipython3",
   "version": "3.9.7"
  },
  "orig_nbformat": 4
 },
 "nbformat": 4,
 "nbformat_minor": 2
}
