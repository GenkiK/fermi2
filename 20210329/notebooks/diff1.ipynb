{
 "cells": [
  {
   "cell_type": "code",
   "execution_count": 82,
   "metadata": {},
   "outputs": [],
   "source": [
    "%matplotlib inline\n",
    "from fermi_model import *\n",
    "\n",
    "states10 = csv_to_states_from_filename('states10.csv')"
   ]
  },
  {
   "cell_type": "markdown",
   "metadata": {},
   "source": [
    "ほしいのは、エネルギー準位ごとのdiff"
   ]
  },
  {
   "cell_type": "code",
   "execution_count": 9,
   "metadata": {},
   "outputs": [],
   "source": [
    "diff_dct = {}\n",
    "for state in states10:\n",
    "    if diff_dct.get(state.score):\n",
    "        diff_dct[state.score][state.diff_from_ground] += 1\n",
    "    else:\n",
    "        diff_dct[state.score] = {k: 0 for k in range(State.n)}\n",
    "        diff_dct[state.score][state.diff_from_ground] += 1"
   ]
  },
  {
   "cell_type": "code",
   "execution_count": 15,
   "metadata": {},
   "outputs": [
    {
     "data": {
      "text/plain": [
       "{45: {0: 1, 1: 0, 2: 0, 3: 0, 4: 0, 5: 0, 6: 0, 7: 0, 8: 0, 9: 0},\n",
       " 46: {0: 0, 1: 1, 2: 0, 3: 0, 4: 0, 5: 0, 6: 0, 7: 0, 8: 0, 9: 0},\n",
       " 47: {0: 0, 1: 2, 2: 0, 3: 0, 4: 0, 5: 0, 6: 0, 7: 0, 8: 0, 9: 0},\n",
       " 48: {0: 0, 1: 3, 2: 0, 3: 0, 4: 0, 5: 0, 6: 0, 7: 0, 8: 0, 9: 0},\n",
       " 49: {0: 0, 1: 4, 2: 1, 3: 0, 4: 0, 5: 0, 6: 0, 7: 0, 8: 0, 9: 0},\n",
       " 50: {0: 0, 1: 5, 2: 2, 3: 0, 4: 0, 5: 0, 6: 0, 7: 0, 8: 0, 9: 0},\n",
       " 51: {0: 0, 1: 6, 2: 5, 3: 0, 4: 0, 5: 0, 6: 0, 7: 0, 8: 0, 9: 0},\n",
       " 52: {0: 0, 1: 7, 2: 8, 3: 0, 4: 0, 5: 0, 6: 0, 7: 0, 8: 0, 9: 0},\n",
       " 53: {0: 0, 1: 8, 2: 14, 3: 0, 4: 0, 5: 0, 6: 0, 7: 0, 8: 0, 9: 0},\n",
       " 54: {0: 0, 1: 9, 2: 20, 3: 1, 4: 0, 5: 0, 6: 0, 7: 0, 8: 0, 9: 0},\n",
       " 55: {0: 0, 1: 10, 2: 30, 3: 2, 4: 0, 5: 0, 6: 0, 7: 0, 8: 0, 9: 0},\n",
       " 56: {0: 0, 1: 10, 2: 40, 3: 5, 4: 0, 5: 0, 6: 0, 7: 0, 8: 0, 9: 0},\n",
       " 57: {0: 0, 1: 10, 2: 55, 3: 10, 4: 0, 5: 0, 6: 0, 7: 0, 8: 0, 9: 0},\n",
       " 58: {0: 0, 1: 10, 2: 69, 3: 18, 4: 0, 5: 0, 6: 0, 7: 0, 8: 0, 9: 0},\n",
       " 59: {0: 0, 1: 10, 2: 88, 3: 30, 4: 0, 5: 0, 6: 0, 7: 0, 8: 0, 9: 0},\n",
       " 60: {0: 0, 1: 10, 2: 105, 3: 49, 4: 0, 5: 0, 6: 0, 7: 0, 8: 0, 9: 0},\n",
       " 61: {0: 0, 1: 10, 2: 127, 3: 74, 4: 1, 5: 0, 6: 0, 7: 0, 8: 0, 9: 0},\n",
       " 62: {0: 0, 1: 10, 2: 146, 3: 109, 4: 2, 5: 0, 6: 0, 7: 0, 8: 0, 9: 0},\n",
       " 63: {0: 0, 1: 10, 2: 170, 3: 155, 4: 5, 5: 0, 6: 0, 7: 0, 8: 0, 9: 0},\n",
       " 64: {0: 0, 1: 10, 2: 190, 3: 213, 4: 10, 5: 0, 6: 0, 7: 0, 8: 0, 9: 0},\n",
       " 65: {0: 0, 1: 10, 2: 215, 3: 285, 4: 20, 5: 0, 6: 0, 7: 0, 8: 0, 9: 0}}"
      ]
     },
     "execution_count": 15,
     "metadata": {},
     "output_type": "execute_result"
    }
   ],
   "source": [
    "diff_dct \n",
    "# lim_sizeを設けているから65εで止まっているが、lim_sizeがなく、より大きなエネルギー準位を考えていけば、diff 9 のやつらとかも出てくる。"
   ]
  },
  {
   "cell_type": "code",
   "execution_count": 11,
   "metadata": {},
   "outputs": [],
   "source": [
    "def calc_diff_1_num(E, n):\n",
    "    diff_1_num = E - int(n * (n-1) / 2)\n",
    "    return diff_1_num if diff_1_num <= n else n"
   ]
  },
  {
   "cell_type": "code",
   "execution_count": 12,
   "metadata": {},
   "outputs": [
    {
     "data": {
      "text/plain": [
       "8"
      ]
     },
     "execution_count": 12,
     "metadata": {},
     "output_type": "execute_result"
    }
   ],
   "source": [
    "calc_diff_1_num(53, 10)"
   ]
  },
  {
   "cell_type": "code",
   "execution_count": 1,
   "metadata": {},
   "outputs": [
    {
     "name": "stdout",
     "output_type": "stream",
     "text": [
      "[1.00000000e+000 1.28700546e-011 7.24217759e-017 ... 5.04522529e-107\n",
      " 3.78444152e-107 2.92088755e-107]\n"
     ]
    },
    {
     "data": {
      "image/png": "[encoded data removed]",
      "text/plain": [
       "<Figure size 432x288 with 1 Axes>"
      ]
     },
     "metadata": {
      "needs_background": "light"
     },
     "output_type": "display_data"
    }
   ],
   "source": [
    "%matplotlib inline\n",
    "from fermi_model import *\n",
    "\n",
    "# 5.5min\n",
    "plot_population_per_diff(ne=1e-7, Te=0.1, e_num=10)"
   ]
  },
  {
   "cell_type": "code",
   "execution_count": 6,
   "metadata": {},
   "outputs": [],
   "source": [
    "def plots_population(\n",
    "    ne_lst: list[float],\n",
    "    Te: float = 0.5,\n",
    "    use_power: bool = True,\n",
    "    xlim: tuple[float] = None,\n",
    "    ylim: tuple[float] = None,\n",
    "    figsize: tuple[float] = None,\n",
    "    labelsize: int = None,\n",
    "    titlesize: int = None,\n",
    ") -> None:\n",
    "    \"\"\"\n",
    "    各neの値におけるフェルミガスモデルを構築し、総エネルギーを横軸にとり、縮退状態を別々で考えた各状態の占有密度を縦軸logスケールでプロットする\n",
    "    \"\"\"\n",
    "    scores = None\n",
    "    states3 = csv_to_states_from_filename()\n",
    "    if figsize is not None:\n",
    "        plt.figure(figsize=figsize)\n",
    "    for ne in tqdm(ne_lst):\n",
    "        fermi = Fermi(states3, equ=False, Te=Te, ne=ne, threshold=1e-10)\n",
    "        scores, population = fermi.calc_population(use_power)\n",
    "        plt.scatter(scores, population, label=fr\"$n_e$={ne}\", s=2, alpha=0.3)\n",
    "    # plt.legend(bbox_to_anchor=(1.02, 1), loc=\"upper left\", borderaxespad=0, fontsize=labelsize)\n",
    "    plt.legend(loc=\"lower left\", fontsize=labelsize)\n",
    "    plt.title(fr\"占有密度分布 ($T_e$ = {Te})\", fontsize=titlesize)\n",
    "    plt.yscale(\"log\")\n",
    "    plt.xlabel(r\"状態 $i$ のエネルギー準位 $E_i$ $[\\epsilon]$\", fontsize=labelsize)\n",
    "    plt.ylabel(r\"$P(E_i)$  ($\\log$ scale)\", fontsize=labelsize)\n",
    "    plt.xlim(xlim)\n",
    "    plt.ylim(ylim)\n",
    "    scores_ordered_set = sorted([*set(scores)])\n",
    "    plt.xticks(scores_ordered_set)\n",
    "    plt.show()"
   ]
  },
  {
   "cell_type": "code",
   "execution_count": 7,
   "metadata": {},
   "outputs": [
    {
     "data": {
      "application/vnd.jupyter.widget-view+json": {
       "model_id": "46764732243046adbc199608f1a40094",
       "version_major": 2,
       "version_minor": 0
      },
      "text/plain": [
       "  0%|          | 0/1 [00:00<?, ?it/s]"
      ]
     },
     "metadata": {},
     "output_type": "display_data"
    },
    {
     "name": "stdout",
     "output_type": "stream",
     "text": [
      "[1. 0. 0. 0. 0. 0. 0. 0. 0. 0. 0. 0. 0. 0. 0. 0. 0. 0. 0. 0. 0. 0. 0. 0.\n",
      " 0. 0. 0. 0. 0. 0. 0. 0. 0. 0. 0. 0. 0. 0. 0. 0. 0. 0. 0. 0. 0. 0. 0. 0.\n",
      " 0. 0. 0. 0. 0. 0. 0. 0. 0. 0. 0. 0. 0. 0. 0. 0. 0. 0. 0. 0. 0. 0. 0. 0.\n",
      " 0. 0. 0. 0. 0. 0. 0. 0. 0. 0. 0. 0. 0. 0. 0. 0. 0. 0. 0. 0. 0. 0. 0. 0.\n",
      " 0. 0. 0. 0. 0. 0. 0. 0. 0. 0. 0. 0. 0. 0. 0. 0. 0. 0. 0. 0. 0. 0. 0. 0.\n",
      " 0. 0. 0. 0. 0. 0. 0. 0. 0. 0. 0. 0. 0. 0. 0. 0. 0. 0. 0. 0. 0. 0. 0. 0.\n",
      " 0. 0. 0. 0. 0. 0. 0. 0. 0. 0. 0. 0. 0. 0. 0. 0. 0. 0. 0. 0. 0. 0. 0. 0.\n",
      " 0. 0. 0. 0. 0. 0. 0. 0. 0. 0. 0. 0. 0. 0. 0. 0. 0. 0. 0. 0. 0. 0. 0. 0.\n",
      " 0. 0. 0. 0. 0. 0. 0. 0. 0. 0. 0. 0. 0. 0. 0. 0. 0. 0. 0. 0. 0. 0. 0. 0.\n",
      " 0. 0. 0. 0. 0. 0. 0. 0. 0. 0. 0. 0. 0. 0. 0. 0. 0. 0. 0. 0. 0. 0. 0. 0.\n",
      " 0. 0. 0. 0. 0. 0. 0. 0. 0. 0. 0. 0. 0. 0. 0. 0. 0. 0. 0. 0. 0. 0. 0. 0.\n",
      " 0. 0. 0. 0. 0. 0. 0. 0. 0. 0. 0. 0. 0. 0. 0. 0. 0. 0. 0. 0. 0. 0. 0. 0.\n",
      " 0. 0. 0. 0. 0. 0. 0. 0. 0. 0. 0. 0. 0. 0. 0. 0. 0. 0. 0. 0. 0. 0. 0. 0.\n",
      " 0. 0. 0. 0. 0. 0. 0. 0. 0. 0. 0. 0. 0. 0. 0. 0. 0. 0. 0. 0. 0. 0. 0. 0.\n",
      " 0. 0. 0. 0. 0. 0. 0. 0. 0. 0. 0. 0. 0. 0. 0. 0. 0. 0. 0. 0. 0. 0.]\n"
     ]
    },
    {
     "data": {
      "image/png": "[encoded data removed]",
      "text/plain": [
       "<Figure size 432x288 with 1 Axes>"
      ]
     },
     "metadata": {
      "needs_background": "light"
     },
     "output_type": "display_data"
    }
   ],
   "source": [
    "plots_population(ne_lst=[1e-4], Te=0.05)"
   ]
  },
  {
   "cell_type": "code",
   "execution_count": 8,
   "metadata": {},
   "outputs": [
    {
     "data": {
      "application/vnd.jupyter.widget-view+json": {
       "model_id": "66685b1cfe8c40d88f4e6e687d9b53ff",
       "version_major": 2,
       "version_minor": 0
      },
      "text/plain": [
       "  0%|          | 0/1 [00:00<?, ?it/s]"
      ]
     },
     "metadata": {},
     "output_type": "display_data"
    },
    {
     "data": {
      "image/png": "[encoded data removed]",
      "text/plain": [
       "<Figure size 432x288 with 1 Axes>"
      ]
     },
     "metadata": {
      "needs_background": "light"
     },
     "output_type": "display_data"
    }
   ],
   "source": [
    "plots_population(ne_lst=[1e-4], Te=0.1)"
   ]
  },
  {
   "cell_type": "code",
   "execution_count": 4,
   "metadata": {},
   "outputs": [
    {
     "data": {
      "application/vnd.jupyter.widget-view+json": {
       "model_id": "492b0ee316c44d80b567b1bbf58b98d4",
       "version_major": 2,
       "version_minor": 0
      },
      "text/plain": [
       "  0%|          | 0/1 [00:00<?, ?it/s]"
      ]
     },
     "metadata": {},
     "output_type": "display_data"
    },
    {
     "data": {
      "image/png": "[encoded data removed]",
      "text/plain": [
       "<Figure size 432x288 with 1 Axes>"
      ]
     },
     "metadata": {
      "needs_background": "light"
     },
     "output_type": "display_data"
    }
   ],
   "source": [
    "plots_population(ne_lst=[1e-7], Te=0.5)"
   ]
  },
  {
   "cell_type": "code",
   "execution_count": 51,
   "metadata": {},
   "outputs": [],
   "source": [
    "%matplotlib inline\n",
    "from fermi_model import *\n",
    "\n",
    "Te = 0.01; ne=1e-05\n",
    "\n",
    "\n",
    "states3 = csv_to_states_from_filename()\n",
    "fermi = Fermi(states3, equ=False, Te=Te, ne=ne, threshold=1e-10)"
   ]
  },
  {
   "cell_type": "code",
   "execution_count": 52,
   "metadata": {},
   "outputs": [],
   "source": [
    "# (scores_per_state_1, population_1), (scores_per_state_2, population_2), (scores_per_state_3, population_3) = fermi.calc_population_per_diff()"
   ]
  },
  {
   "cell_type": "code",
   "execution_count": 53,
   "metadata": {},
   "outputs": [],
   "source": [
    "def sum_along_axis(matrix: NDArray[np.float64], axis: int = 0):\n",
    "    return np.apply_along_axis(np.sum, axis, matrix)\n"
   ]
  },
  {
   "cell_type": "code",
   "execution_count": 62,
   "metadata": {},
   "outputs": [],
   "source": [
    "fermi._make_matrices()\n",
    "\n",
    "def power_method(matrix: NDArray[np.float64], eigen: float, threshold: float) -> NDArray[np.float64]:\n",
    "    x = np.zeros(matrix.shape[0])\n",
    "    x[0] = 1\n",
    "    cnt = 1\n",
    "    while cnt < 1000000:\n",
    "        y = np.dot(matrix, x)\n",
    "        cur_eigen = np.dot(y, y) / np.dot(y, x)\n",
    "        x = y / np.linalg.norm(y)\n",
    "        cnt += 1\n",
    "    while True:\n",
    "        y = np.dot(matrix, x)\n",
    "        cur_eigen = np.dot(y, y) / np.dot(y, x)\n",
    "        if np.abs(eigen - cur_eigen) < threshold:\n",
    "            return x\n",
    "        x = y / np.linalg.norm(y)"
   ]
  },
  {
   "cell_type": "code",
   "execution_count": 63,
   "metadata": {},
   "outputs": [],
   "source": [
    "C_ = np.diag(sum_along_axis(fermi.excitation, 1))\n",
    "F_ = np.diag(sum_along_axis(fermi.deexcitation, 0))\n",
    "C = fermi.excitation\n",
    "F = fermi.deexcitation\n",
    "coeff = C_ - F - C.T + F_\n",
    "A_ = np.diag(sum_along_axis(fermi.emission, 0))\n",
    "A = fermi.emission\n",
    "coeff += A_ - A\n",
    "fermi.coeff = coeff\n",
    "\n",
    "eigen = np.max(np.abs(np.diag(coeff)))\n",
    "non_negative_matrix = -coeff + eigen * np.eye(C.shape[0])\n",
    "x = power_method(non_negative_matrix, eigen, fermi.threshold)\n",
    "solution =  x / np.sum(x)\n"
   ]
  },
  {
   "cell_type": "code",
   "execution_count": 64,
   "metadata": {},
   "outputs": [
    {
     "data": {
      "text/plain": [
       "array([1.00000000e+000, 3.71970401e-048, 1.53778239e-092, 1.53778239e-092,\n",
       "       1.43020258e-136, 1.77526254e-136, 1.43020258e-136, 1.91538003e-180,\n",
       "       2.58809791e-180, 5.46959926e-184, 2.58809791e-180, 3.16683513e-224,\n",
       "       4.39794747e-224, 8.12844488e-228, 4.98224499e-224, 8.12844488e-228,\n",
       "       6.01065443e-268, 8.36099849e-268, 1.44324273e-271, 3.66933451e-272,\n",
       "       1.01548182e-267, 1.54720990e-271, 3.66933451e-272, 1.25775600e-311,\n",
       "       1.73283528e-311, 2.85731825e-315, 6.30473411e-316, 2.18135402e-311,\n",
       "       3.22923953e-315, 6.71673086e-316, 6.71673086e-316, 0.00000000e+000,\n",
       "       0.00000000e+000, 0.00000000e+000, 0.00000000e+000, 0.00000000e+000,\n",
       "       0.00000000e+000, 0.00000000e+000, 0.00000000e+000, 0.00000000e+000,\n",
       "       0.00000000e+000, 0.00000000e+000, 0.00000000e+000, 0.00000000e+000,\n",
       "       0.00000000e+000, 0.00000000e+000, 0.00000000e+000, 0.00000000e+000,\n",
       "       0.00000000e+000, 0.00000000e+000, 0.00000000e+000, 0.00000000e+000,\n",
       "       0.00000000e+000, 0.00000000e+000, 0.00000000e+000, 0.00000000e+000,\n",
       "       0.00000000e+000, 0.00000000e+000, 0.00000000e+000, 0.00000000e+000,\n",
       "       0.00000000e+000, 0.00000000e+000, 0.00000000e+000, 0.00000000e+000,\n",
       "       0.00000000e+000, 0.00000000e+000, 0.00000000e+000, 0.00000000e+000,\n",
       "       0.00000000e+000, 0.00000000e+000, 0.00000000e+000, 0.00000000e+000,\n",
       "       0.00000000e+000, 0.00000000e+000, 0.00000000e+000, 0.00000000e+000,\n",
       "       0.00000000e+000, 0.00000000e+000, 0.00000000e+000, 0.00000000e+000,\n",
       "       0.00000000e+000, 0.00000000e+000, 0.00000000e+000, 0.00000000e+000,\n",
       "       0.00000000e+000, 0.00000000e+000, 0.00000000e+000, 0.00000000e+000,\n",
       "       0.00000000e+000, 0.00000000e+000, 0.00000000e+000, 0.00000000e+000,\n",
       "       0.00000000e+000, 0.00000000e+000, 0.00000000e+000, 0.00000000e+000,\n",
       "       0.00000000e+000, 0.00000000e+000, 0.00000000e+000, 0.00000000e+000,\n",
       "       0.00000000e+000, 0.00000000e+000, 0.00000000e+000, 0.00000000e+000,\n",
       "       0.00000000e+000, 0.00000000e+000, 0.00000000e+000, 0.00000000e+000,\n",
       "       0.00000000e+000, 0.00000000e+000, 0.00000000e+000, 0.00000000e+000,\n",
       "       0.00000000e+000, 0.00000000e+000, 0.00000000e+000, 0.00000000e+000,\n",
       "       0.00000000e+000, 0.00000000e+000, 0.00000000e+000, 0.00000000e+000,\n",
       "       0.00000000e+000, 0.00000000e+000, 0.00000000e+000, 0.00000000e+000,\n",
       "       0.00000000e+000, 0.00000000e+000, 0.00000000e+000, 0.00000000e+000,\n",
       "       0.00000000e+000, 0.00000000e+000, 0.00000000e+000, 0.00000000e+000,\n",
       "       0.00000000e+000, 0.00000000e+000, 0.00000000e+000, 0.00000000e+000,\n",
       "       0.00000000e+000, 0.00000000e+000, 0.00000000e+000, 0.00000000e+000,\n",
       "       0.00000000e+000, 0.00000000e+000, 0.00000000e+000, 0.00000000e+000,\n",
       "       0.00000000e+000, 0.00000000e+000, 0.00000000e+000, 0.00000000e+000,\n",
       "       0.00000000e+000, 0.00000000e+000, 0.00000000e+000, 0.00000000e+000,\n",
       "       0.00000000e+000, 0.00000000e+000, 0.00000000e+000, 0.00000000e+000,\n",
       "       0.00000000e+000, 0.00000000e+000, 0.00000000e+000, 0.00000000e+000,\n",
       "       0.00000000e+000, 0.00000000e+000, 0.00000000e+000, 0.00000000e+000,\n",
       "       0.00000000e+000, 0.00000000e+000, 0.00000000e+000, 0.00000000e+000,\n",
       "       0.00000000e+000, 0.00000000e+000, 0.00000000e+000, 0.00000000e+000,\n",
       "       0.00000000e+000, 0.00000000e+000, 0.00000000e+000, 0.00000000e+000,\n",
       "       0.00000000e+000, 0.00000000e+000, 0.00000000e+000, 0.00000000e+000,\n",
       "       0.00000000e+000, 0.00000000e+000, 0.00000000e+000, 0.00000000e+000,\n",
       "       0.00000000e+000, 0.00000000e+000, 0.00000000e+000, 0.00000000e+000,\n",
       "       0.00000000e+000, 0.00000000e+000, 0.00000000e+000, 0.00000000e+000,\n",
       "       0.00000000e+000, 0.00000000e+000, 0.00000000e+000, 0.00000000e+000,\n",
       "       0.00000000e+000, 0.00000000e+000, 0.00000000e+000, 0.00000000e+000,\n",
       "       0.00000000e+000, 0.00000000e+000, 0.00000000e+000, 0.00000000e+000,\n",
       "       0.00000000e+000, 0.00000000e+000, 0.00000000e+000, 0.00000000e+000,\n",
       "       0.00000000e+000, 0.00000000e+000, 0.00000000e+000, 0.00000000e+000,\n",
       "       0.00000000e+000, 0.00000000e+000, 0.00000000e+000, 0.00000000e+000,\n",
       "       0.00000000e+000, 0.00000000e+000, 0.00000000e+000, 0.00000000e+000,\n",
       "       0.00000000e+000, 0.00000000e+000, 0.00000000e+000, 0.00000000e+000,\n",
       "       0.00000000e+000, 0.00000000e+000, 0.00000000e+000, 0.00000000e+000,\n",
       "       0.00000000e+000, 0.00000000e+000, 0.00000000e+000, 0.00000000e+000,\n",
       "       0.00000000e+000, 0.00000000e+000, 0.00000000e+000, 0.00000000e+000,\n",
       "       0.00000000e+000, 0.00000000e+000, 0.00000000e+000, 0.00000000e+000,\n",
       "       0.00000000e+000, 0.00000000e+000, 0.00000000e+000, 0.00000000e+000,\n",
       "       0.00000000e+000, 0.00000000e+000, 0.00000000e+000, 0.00000000e+000,\n",
       "       0.00000000e+000, 0.00000000e+000, 0.00000000e+000, 0.00000000e+000,\n",
       "       0.00000000e+000, 0.00000000e+000, 0.00000000e+000, 0.00000000e+000,\n",
       "       0.00000000e+000, 0.00000000e+000, 0.00000000e+000, 0.00000000e+000,\n",
       "       0.00000000e+000, 0.00000000e+000, 0.00000000e+000, 0.00000000e+000,\n",
       "       0.00000000e+000, 0.00000000e+000, 0.00000000e+000, 0.00000000e+000,\n",
       "       0.00000000e+000, 0.00000000e+000, 0.00000000e+000, 0.00000000e+000,\n",
       "       0.00000000e+000, 0.00000000e+000, 0.00000000e+000, 0.00000000e+000,\n",
       "       0.00000000e+000, 0.00000000e+000, 0.00000000e+000, 0.00000000e+000,\n",
       "       0.00000000e+000, 0.00000000e+000, 0.00000000e+000, 0.00000000e+000,\n",
       "       0.00000000e+000, 0.00000000e+000, 0.00000000e+000, 0.00000000e+000,\n",
       "       0.00000000e+000, 0.00000000e+000, 0.00000000e+000, 0.00000000e+000,\n",
       "       0.00000000e+000, 0.00000000e+000, 0.00000000e+000, 0.00000000e+000,\n",
       "       0.00000000e+000, 0.00000000e+000, 0.00000000e+000, 0.00000000e+000,\n",
       "       0.00000000e+000, 0.00000000e+000, 0.00000000e+000, 0.00000000e+000,\n",
       "       0.00000000e+000, 0.00000000e+000, 0.00000000e+000, 0.00000000e+000,\n",
       "       0.00000000e+000, 0.00000000e+000, 0.00000000e+000, 0.00000000e+000,\n",
       "       0.00000000e+000, 0.00000000e+000, 0.00000000e+000, 0.00000000e+000,\n",
       "       0.00000000e+000, 0.00000000e+000, 0.00000000e+000, 0.00000000e+000,\n",
       "       0.00000000e+000, 0.00000000e+000, 0.00000000e+000, 0.00000000e+000,\n",
       "       0.00000000e+000, 0.00000000e+000, 0.00000000e+000, 0.00000000e+000,\n",
       "       0.00000000e+000, 0.00000000e+000, 0.00000000e+000, 0.00000000e+000,\n",
       "       0.00000000e+000, 0.00000000e+000, 0.00000000e+000, 0.00000000e+000,\n",
       "       0.00000000e+000, 0.00000000e+000, 0.00000000e+000, 0.00000000e+000,\n",
       "       0.00000000e+000, 0.00000000e+000, 0.00000000e+000, 0.00000000e+000,\n",
       "       0.00000000e+000, 0.00000000e+000, 0.00000000e+000, 0.00000000e+000,\n",
       "       0.00000000e+000, 0.00000000e+000, 0.00000000e+000, 0.00000000e+000,\n",
       "       0.00000000e+000, 0.00000000e+000, 0.00000000e+000, 0.00000000e+000,\n",
       "       0.00000000e+000, 0.00000000e+000])"
      ]
     },
     "execution_count": 64,
     "metadata": {},
     "output_type": "execute_result"
    }
   ],
   "source": [
    "x"
   ]
  },
  {
   "cell_type": "code",
   "execution_count": 57,
   "metadata": {},
   "outputs": [
    {
     "data": {
      "text/plain": [
       "array([1.00000000e+000, 3.33456821e-048, 1.53776447e-092, 1.53776447e-092,\n",
       "       1.43018735e-136, 1.77526254e-136, 1.43018735e-136, 1.91536001e-180,\n",
       "       2.58809791e-180, 5.00848486e-184, 2.58809791e-180, 3.16680220e-224,\n",
       "       4.39794747e-224, 7.39083443e-228, 4.98224499e-224, 7.39083443e-228,\n",
       "       6.01059206e-268, 8.36099849e-268, 1.31004036e-271, 3.66929625e-272,\n",
       "       1.01548182e-267, 1.39561084e-271, 3.66929625e-272, 1.25774296e-311,\n",
       "       1.73283528e-311, 2.59218134e-315, 6.30466825e-316, 2.18135402e-311,\n",
       "       2.90723143e-315, 6.71665709e-316, 6.71665709e-316, 0.00000000e+000,\n",
       "       0.00000000e+000, 0.00000000e+000, 0.00000000e+000, 0.00000000e+000,\n",
       "       0.00000000e+000, 0.00000000e+000, 0.00000000e+000, 0.00000000e+000,\n",
       "       0.00000000e+000, 0.00000000e+000, 0.00000000e+000, 0.00000000e+000,\n",
       "       0.00000000e+000, 0.00000000e+000, 0.00000000e+000, 0.00000000e+000,\n",
       "       0.00000000e+000, 0.00000000e+000, 0.00000000e+000, 0.00000000e+000,\n",
       "       0.00000000e+000, 0.00000000e+000, 0.00000000e+000, 0.00000000e+000,\n",
       "       0.00000000e+000, 0.00000000e+000, 0.00000000e+000, 0.00000000e+000,\n",
       "       0.00000000e+000, 0.00000000e+000, 0.00000000e+000, 0.00000000e+000,\n",
       "       0.00000000e+000, 0.00000000e+000, 0.00000000e+000, 0.00000000e+000,\n",
       "       0.00000000e+000, 0.00000000e+000, 0.00000000e+000, 0.00000000e+000,\n",
       "       0.00000000e+000, 0.00000000e+000, 0.00000000e+000, 0.00000000e+000,\n",
       "       0.00000000e+000, 0.00000000e+000, 0.00000000e+000, 0.00000000e+000,\n",
       "       0.00000000e+000, 0.00000000e+000, 0.00000000e+000, 0.00000000e+000,\n",
       "       0.00000000e+000, 0.00000000e+000, 0.00000000e+000, 0.00000000e+000,\n",
       "       0.00000000e+000, 0.00000000e+000, 0.00000000e+000, 0.00000000e+000,\n",
       "       0.00000000e+000, 0.00000000e+000, 0.00000000e+000, 0.00000000e+000,\n",
       "       0.00000000e+000, 0.00000000e+000, 0.00000000e+000, 0.00000000e+000,\n",
       "       0.00000000e+000, 0.00000000e+000, 0.00000000e+000, 0.00000000e+000,\n",
       "       0.00000000e+000, 0.00000000e+000, 0.00000000e+000, 0.00000000e+000,\n",
       "       0.00000000e+000, 0.00000000e+000, 0.00000000e+000, 0.00000000e+000,\n",
       "       0.00000000e+000, 0.00000000e+000, 0.00000000e+000, 0.00000000e+000,\n",
       "       0.00000000e+000, 0.00000000e+000, 0.00000000e+000, 0.00000000e+000,\n",
       "       0.00000000e+000, 0.00000000e+000, 0.00000000e+000, 0.00000000e+000,\n",
       "       0.00000000e+000, 0.00000000e+000, 0.00000000e+000, 0.00000000e+000,\n",
       "       0.00000000e+000, 0.00000000e+000, 0.00000000e+000, 0.00000000e+000,\n",
       "       0.00000000e+000, 0.00000000e+000, 0.00000000e+000, 0.00000000e+000,\n",
       "       0.00000000e+000, 0.00000000e+000, 0.00000000e+000, 0.00000000e+000,\n",
       "       0.00000000e+000, 0.00000000e+000, 0.00000000e+000, 0.00000000e+000,\n",
       "       0.00000000e+000, 0.00000000e+000, 0.00000000e+000, 0.00000000e+000,\n",
       "       0.00000000e+000, 0.00000000e+000, 0.00000000e+000, 0.00000000e+000,\n",
       "       0.00000000e+000, 0.00000000e+000, 0.00000000e+000, 0.00000000e+000,\n",
       "       0.00000000e+000, 0.00000000e+000, 0.00000000e+000, 0.00000000e+000,\n",
       "       0.00000000e+000, 0.00000000e+000, 0.00000000e+000, 0.00000000e+000,\n",
       "       0.00000000e+000, 0.00000000e+000, 0.00000000e+000, 0.00000000e+000,\n",
       "       0.00000000e+000, 0.00000000e+000, 0.00000000e+000, 0.00000000e+000,\n",
       "       0.00000000e+000, 0.00000000e+000, 0.00000000e+000, 0.00000000e+000,\n",
       "       0.00000000e+000, 0.00000000e+000, 0.00000000e+000, 0.00000000e+000,\n",
       "       0.00000000e+000, 0.00000000e+000, 0.00000000e+000, 0.00000000e+000,\n",
       "       0.00000000e+000, 0.00000000e+000, 0.00000000e+000, 0.00000000e+000,\n",
       "       0.00000000e+000, 0.00000000e+000, 0.00000000e+000, 0.00000000e+000,\n",
       "       0.00000000e+000, 0.00000000e+000, 0.00000000e+000, 0.00000000e+000,\n",
       "       0.00000000e+000, 0.00000000e+000, 0.00000000e+000, 0.00000000e+000,\n",
       "       0.00000000e+000, 0.00000000e+000, 0.00000000e+000, 0.00000000e+000,\n",
       "       0.00000000e+000, 0.00000000e+000, 0.00000000e+000, 0.00000000e+000,\n",
       "       0.00000000e+000, 0.00000000e+000, 0.00000000e+000, 0.00000000e+000,\n",
       "       0.00000000e+000, 0.00000000e+000, 0.00000000e+000, 0.00000000e+000,\n",
       "       0.00000000e+000, 0.00000000e+000, 0.00000000e+000, 0.00000000e+000,\n",
       "       0.00000000e+000, 0.00000000e+000, 0.00000000e+000, 0.00000000e+000,\n",
       "       0.00000000e+000, 0.00000000e+000, 0.00000000e+000, 0.00000000e+000,\n",
       "       0.00000000e+000, 0.00000000e+000, 0.00000000e+000, 0.00000000e+000,\n",
       "       0.00000000e+000, 0.00000000e+000, 0.00000000e+000, 0.00000000e+000,\n",
       "       0.00000000e+000, 0.00000000e+000, 0.00000000e+000, 0.00000000e+000,\n",
       "       0.00000000e+000, 0.00000000e+000, 0.00000000e+000, 0.00000000e+000,\n",
       "       0.00000000e+000, 0.00000000e+000, 0.00000000e+000, 0.00000000e+000,\n",
       "       0.00000000e+000, 0.00000000e+000, 0.00000000e+000, 0.00000000e+000,\n",
       "       0.00000000e+000, 0.00000000e+000, 0.00000000e+000, 0.00000000e+000,\n",
       "       0.00000000e+000, 0.00000000e+000, 0.00000000e+000, 0.00000000e+000,\n",
       "       0.00000000e+000, 0.00000000e+000, 0.00000000e+000, 0.00000000e+000,\n",
       "       0.00000000e+000, 0.00000000e+000, 0.00000000e+000, 0.00000000e+000,\n",
       "       0.00000000e+000, 0.00000000e+000, 0.00000000e+000, 0.00000000e+000,\n",
       "       0.00000000e+000, 0.00000000e+000, 0.00000000e+000, 0.00000000e+000,\n",
       "       0.00000000e+000, 0.00000000e+000, 0.00000000e+000, 0.00000000e+000,\n",
       "       0.00000000e+000, 0.00000000e+000, 0.00000000e+000, 0.00000000e+000,\n",
       "       0.00000000e+000, 0.00000000e+000, 0.00000000e+000, 0.00000000e+000,\n",
       "       0.00000000e+000, 0.00000000e+000, 0.00000000e+000, 0.00000000e+000,\n",
       "       0.00000000e+000, 0.00000000e+000, 0.00000000e+000, 0.00000000e+000,\n",
       "       0.00000000e+000, 0.00000000e+000, 0.00000000e+000, 0.00000000e+000,\n",
       "       0.00000000e+000, 0.00000000e+000, 0.00000000e+000, 0.00000000e+000,\n",
       "       0.00000000e+000, 0.00000000e+000, 0.00000000e+000, 0.00000000e+000,\n",
       "       0.00000000e+000, 0.00000000e+000, 0.00000000e+000, 0.00000000e+000,\n",
       "       0.00000000e+000, 0.00000000e+000, 0.00000000e+000, 0.00000000e+000,\n",
       "       0.00000000e+000, 0.00000000e+000, 0.00000000e+000, 0.00000000e+000,\n",
       "       0.00000000e+000, 0.00000000e+000, 0.00000000e+000, 0.00000000e+000,\n",
       "       0.00000000e+000, 0.00000000e+000, 0.00000000e+000, 0.00000000e+000,\n",
       "       0.00000000e+000, 0.00000000e+000, 0.00000000e+000, 0.00000000e+000,\n",
       "       0.00000000e+000, 0.00000000e+000, 0.00000000e+000, 0.00000000e+000,\n",
       "       0.00000000e+000, 0.00000000e+000, 0.00000000e+000, 0.00000000e+000,\n",
       "       0.00000000e+000, 0.00000000e+000, 0.00000000e+000, 0.00000000e+000,\n",
       "       0.00000000e+000, 0.00000000e+000, 0.00000000e+000, 0.00000000e+000,\n",
       "       0.00000000e+000, 0.00000000e+000, 0.00000000e+000, 0.00000000e+000,\n",
       "       0.00000000e+000, 0.00000000e+000, 0.00000000e+000, 0.00000000e+000,\n",
       "       0.00000000e+000, 0.00000000e+000])"
      ]
     },
     "execution_count": 57,
     "metadata": {},
     "output_type": "execute_result"
    }
   ],
   "source": [
    "solution"
   ]
  },
  {
   "cell_type": "code",
   "execution_count": 58,
   "metadata": {},
   "outputs": [],
   "source": [
    "scores_per_state = [state.score for state in fermi.states]"
   ]
  },
  {
   "cell_type": "code",
   "execution_count": 59,
   "metadata": {},
   "outputs": [
    {
     "name": "stderr",
     "output_type": "stream",
     "text": [
      "C:\\Users\\GENKIK~1\\AppData\\Local\\Temp/ipykernel_13424/946366737.py:10: UserWarning: Attempted to set non-positive bottom ylim on a log-scaled axis.\n",
      "Invalid limit will be ignored.\n",
      "  plt.ylim((1e-400, 10000))\n"
     ]
    },
    {
     "data": {
      "image/png": "[encoded data removed]",
      "text/plain": [
       "<Figure size 1080x720 with 1 Axes>"
      ]
     },
     "metadata": {
      "needs_background": "light"
     },
     "output_type": "display_data"
    }
   ],
   "source": [
    "plt.figure(figsize=(15, 10))\n",
    "plt.scatter(scores_per_state, solution, label=fr\"$n_e$={ne}\", s=2, alpha=1.0)\n",
    "# plt.legend(bbox_to_anchor=(1.02, 1), loc=\"upper left\", borderaxespad=0, fontsize=labelsize)\n",
    "plt.legend(loc=\"lower left\")\n",
    "plt.title(fr\"占有密度分布 ($T_e$ = {Te})\")\n",
    "plt.yscale(\"log\")\n",
    "plt.xlabel(r\"状態 $i$ のエネルギー準位 $E_i$ $[\\epsilon]$\")\n",
    "plt.ylabel(r\"$P(E_i)$  ($\\log$ scale)\")\n",
    "scores_ordered_set = sorted([*set(scores_per_state)])\n",
    "plt.ylim((1e-400, 10000))\n",
    "plt.xticks(scores_ordered_set)\n",
    "plt.show()"
   ]
  },
  {
   "cell_type": "code",
   "execution_count": 34,
   "metadata": {},
   "outputs": [
    {
     "data": {
      "text/plain": [
       "array([1.00000000e+000, 8.26313920e-016, 2.11102482e-025, 2.11102482e-025,\n",
       "       1.08778674e-034, 1.35035547e-034, 1.08778674e-034, 8.07154437e-044,\n",
       "       1.09074881e-043, 9.44046743e-050, 1.09074881e-043, 7.39408584e-053,\n",
       "       1.02695596e-052, 7.71863224e-059, 1.16340461e-052, 7.71863224e-059,\n",
       "       7.77568719e-062, 1.08172766e-061, 7.58036377e-068, 2.12291867e-068,\n",
       "       1.31382242e-061, 8.07557772e-068, 2.12291867e-068, 9.01512331e-071,\n",
       "       1.24215358e-070, 8.31053692e-077, 2.02102320e-077, 1.56368441e-070,\n",
       "       9.32069511e-077, 2.15309216e-077, 2.15309216e-077, 1.12406932e-079,\n",
       "       1.52703697e-079, 9.86431705e-086, 2.21788550e-086, 1.15548658e-086,\n",
       "       1.95280588e-079, 1.13758690e-085, 2.36135660e-086, 2.46201965e-086,\n",
       "       1.49763138e-086, 1.48280292e-088, 1.98327260e-088, 1.24514710e-094,\n",
       "       2.65759068e-095, 1.23173992e-095, 2.54679776e-088, 1.45361970e-094,\n",
       "       2.86649814e-095, 1.36823596e-095, 3.03148886e-095, 1.65713306e-095,\n",
       "       9.66914092e-102, 2.04594259e-097, 2.69437261e-097, 1.65137706e-103,\n",
       "       3.39192571e-104, 1.46355062e-104, 9.89407725e-105, 3.45174209e-097,\n",
       "       1.93340612e-103, 3.68558290e-104, 1.58813189e-104, 3.93383702e-104,\n",
       "       2.01498503e-104, 1.44849955e-104, 1.08218455e-110, 2.92847359e-106,\n",
       "       3.79994815e-106, 2.28111558e-112, 4.54612968e-113, 1.86799628e-113,\n",
       "       1.15110765e-113, 4.83931156e-106, 2.66386899e-112, 4.94582699e-113,\n",
       "       2.01236667e-113, 1.32219892e-113, 5.31893190e-113, 2.60953208e-113,\n",
       "       1.72032947e-113, 1.32909353e-119, 9.54593710e-120, 4.32165745e-115,\n",
       "       5.53070121e-115, 3.26027894e-121, 6.33885723e-122, 2.51183043e-122,\n",
       "       1.45577779e-122, 1.11668589e-122, 6.98908883e-115, 3.78603621e-121,\n",
       "       6.87575796e-122, 2.69290027e-122, 1.62490716e-122, 7.44109853e-122,\n",
       "       3.53839701e-122, 2.20281547e-122, 1.73125973e-122, 1.73695221e-128,\n",
       "       1.14978784e-128, 2.60997307e-129, 6.54435912e-124, 8.26881545e-124,\n",
       "       4.79664527e-130, 9.13370175e-131, 3.51758189e-131, 1.95186354e-131,\n",
       "       1.39091896e-131, 1.03601250e-123, 5.53005066e-130, 9.85290666e-131,\n",
       "       3.75023702e-131, 2.14471115e-131, 1.63564852e-131, 1.07182238e-130,\n",
       "       4.97403248e-131, 2.97513303e-131, 2.17796917e-131, 2.37559171e-137,\n",
       "       1.48699297e-137, 1.20009006e-137, 3.13278056e-138, 1.01316848e-132,\n",
       "       1.26516911e-132, 7.23476062e-139, 1.35319137e-139, 5.09137719e-140,\n",
       "       2.73383676e-140, 1.84971726e-140, 1.52549385e-140, 1.57127269e-132,\n",
       "       8.27460045e-139, 1.44967828e-139, 5.39242730e-140, 2.97115986e-140,\n",
       "       2.11488504e-140, 1.58360851e-139, 7.20334133e-140, 4.18208115e-140,\n",
       "       2.91274744e-140, 2.42049845e-140, 3.36658670e-146, 2.02466798e-146,\n",
       "       1.53055821e-146, 4.06054477e-147, 3.16403430e-147, 1.59885154e-141,\n",
       "       1.97507533e-141, 1.11502396e-147, 2.05324130e-148, 7.57548344e-149,\n",
       "       3.96318496e-149, 2.58112185e-149, 2.00603456e-149, 2.43171228e-141,\n",
       "       1.26482638e-147, 2.18297306e-148, 7.96489045e-149, 4.26732224e-149,\n",
       "       2.89741973e-149, 2.39320142e-149, 2.39270982e-148, 1.06996141e-148,\n",
       "       6.06777152e-149, 4.07587983e-149, 3.19327275e-149, 4.91188940e-155,\n",
       "       2.86653335e-155, 2.06621490e-155, 1.75975529e-155, 5.54832277e-156,\n",
       "       4.04920261e-156, 1.86903319e-156, 2.56568407e-150, 3.13813475e-150,\n",
       "       1.75124602e-156, 3.18070714e-157, 1.15398538e-157, 5.90955056e-158,\n",
       "       3.73731847e-158, 2.78003212e-158, 2.40084677e-158, 3.83133145e-150,\n",
       "       1.97034199e-156, 3.35524659e-157, 1.20401591e-157, 6.30807264e-158,\n",
       "       4.13897231e-158, 3.23206457e-158, 3.68762631e-157, 1.62467632e-157,\n",
       "       9.03722773e-158, 5.90548388e-158, 4.43100704e-158, 3.82643819e-158,\n",
       "       7.34515189e-164, 4.18627672e-164, 2.91235266e-164, 2.35063221e-164,\n",
       "       7.88584165e-165, 5.48964840e-165, 4.65729291e-165, 2.37251402e-165,\n",
       "       4.17838539e-159, 5.06429455e-159, 2.79668621e-165, 5.01762620e-166,\n",
       "       1.79400733e-166, 9.02312891e-167, 5.57371053e-167, 4.01019113e-167,\n",
       "       3.29912220e-167, 6.13355364e-159, 3.12165882e-165, 5.25178257e-166,\n",
       "       1.85729762e-166, 9.55153640e-167, 6.10499033e-167, 4.57674871e-167,\n",
       "       3.96546365e-167, 5.78473178e-166, 2.51526168e-166, 1.37633599e-166,\n",
       "       8.79847082e-167, 6.39100917e-167, 5.25324295e-167, 1.12201617e-172,\n",
       "       6.27202589e-173, 4.24564139e-173, 3.28986360e-173, 2.89690403e-173,\n",
       "       1.15616358e-173, 7.76942116e-174, 6.25587513e-174, 3.21070901e-174,\n",
       "       2.64888042e-174, 6.89460670e-168, 8.28661740e-168, 4.53276220e-174,\n",
       "       8.04349541e-175, 2.83906071e-175, 1.40599957e-175, 8.51781627e-176,\n",
       "       5.97009428e-176, 4.73193496e-176, 4.21657359e-176, 9.96023440e-168,\n",
       "       5.02102946e-174, 8.35500421e-175, 2.91677240e-175, 1.47637037e-175,\n",
       "       9.24005002e-176, 6.71762781e-176, 5.55738644e-176, 9.21929200e-175,\n",
       "       3.96163739e-175, 2.13711484e-175, 1.34161349e-175, 9.50261188e-176,\n",
       "       7.52331027e-176, 6.68132123e-176, 1.74627665e-181, 9.60320939e-182,\n",
       "       6.35988854e-182, 4.77606791e-182, 4.02084981e-182, 1.73880028e-182,\n",
       "       1.13697058e-182, 8.79757216e-183, 7.77878552e-183, 4.54634789e-183,\n",
       "       3.55240562e-183, 2.21149589e-183, 1.15107833e-176, 1.37282075e-176,\n",
       "       7.44423252e-183, 1.30795975e-183, 4.56399889e-184, 2.22992606e-184,\n",
       "       1.32887671e-184, 9.11845832e-185, 7.01997846e-185, 6.00856333e-185,\n",
       "       1.63830268e-176, 8.18651658e-183, 1.34869975e-183, 4.65415806e-184,\n",
       "       2.32339703e-184, 1.42893425e-184, 1.01421015e-184, 8.10073363e-185,\n",
       "       7.24176847e-185, 1.49038476e-183, 6.33650991e-184, 3.37554755e-184,\n",
       "       2.08661399e-184, 1.44823578e-184, 1.11386858e-184, 9.48809751e-185,\n",
       "       2.76329189e-190, 1.49828471e-190, 9.74494181e-191, 7.13947979e-191,\n",
       "       5.80283757e-191, 5.23070649e-191, 2.67189796e-191, 1.70926462e-191,\n",
       "       1.28240547e-191, 1.08619157e-191, 6.66257199e-192, 5.00005199e-192,\n",
       "       4.37888641e-192, 2.94217926e-192, 1.94215484e-185, 2.29979579e-185,\n",
       "       1.23717641e-191, 2.15425509e-192, 7.44018058e-193, 3.59210934e-193,\n",
       "       2.11046224e-193, 1.42278645e-193, 1.07010960e-193, 8.87217585e-194,\n",
       "       8.08441329e-194, 2.72611211e-185, 1.35122902e-191, 2.20588725e-192,\n",
       "       7.53311222e-193, 3.71489923e-193, 2.25092164e-193, 1.56684752e-193,\n",
       "       1.21779432e-193, 1.04745520e-193, 2.44053949e-192, 1.02762573e-192,\n",
       "       5.41323276e-193, 3.30169422e-193, 2.25322402e-193, 1.69372688e-193,\n",
       "       1.39641392e-193, 1.26656618e-193, 4.43791536e-199, 2.37660372e-199,\n",
       "       1.52225531e-199, 1.09311984e-199, 8.64155728e-200, 7.49876137e-200,\n",
       "       4.18263112e-200, 2.62777475e-200, 1.92385276e-200, 1.57506280e-200,\n",
       "       1.42796702e-200, 1.00344333e-200, 7.30069283e-201, 6.12258037e-201,\n",
       "       4.12844646e-201, 3.55030578e-201])"
      ]
     },
     "execution_count": 34,
     "metadata": {},
     "output_type": "execute_result"
    }
   ],
   "source": [
    "solution"
   ]
  },
  {
   "cell_type": "code",
   "execution_count": 10,
   "metadata": {},
   "outputs": [],
   "source": [
    "n = 10\n",
    "lim = 30\n",
    "diff_1_dct = {}\n",
    "\n",
    "\n",
    "for i in range(n):\n",
    "    for j in range(n, lim):\n",
    "        after_trans = int(n * (n-1) / 2) + j - i\n",
    "        if diff_1_dct.get(after_trans):\n",
    "            diff_1_dct[after_trans] += 1\n",
    "        else:\n",
    "            diff_1_dct[after_trans] = 1"
   ]
  },
  {
   "cell_type": "code",
   "execution_count": 11,
   "metadata": {},
   "outputs": [
    {
     "data": {
      "text/plain": [
       "{55: 10,\n",
       " 56: 10,\n",
       " 57: 10,\n",
       " 58: 10,\n",
       " 59: 10,\n",
       " 60: 10,\n",
       " 61: 10,\n",
       " 62: 10,\n",
       " 63: 10,\n",
       " 64: 10,\n",
       " 65: 10,\n",
       " 66: 9,\n",
       " 67: 8,\n",
       " 68: 7,\n",
       " 69: 6,\n",
       " 70: 5,\n",
       " 71: 4,\n",
       " 72: 3,\n",
       " 73: 2,\n",
       " 74: 1,\n",
       " 54: 9,\n",
       " 53: 8,\n",
       " 52: 7,\n",
       " 51: 6,\n",
       " 50: 5,\n",
       " 49: 4,\n",
       " 48: 3,\n",
       " 47: 2,\n",
       " 46: 1}"
      ]
     },
     "execution_count": 11,
     "metadata": {},
     "output_type": "execute_result"
    }
   ],
   "source": [
    "diff_1_dct"
   ]
  },
  {
   "cell_type": "code",
   "execution_count": 24,
   "metadata": {},
   "outputs": [],
   "source": [
    "from itertools import combinations\n",
    "\n",
    "n = 10\n",
    "lim = 50\n",
    "diff_2_dct = {}\n",
    "\n",
    "for i, i_ in combinations(range(n), 2):\n",
    "    for j, j_ in combinations(range(n, lim), 2):\n",
    "        after_trans = int(n * (n-1) / 2) + j + j_ - i - i_\n",
    "        if diff_2_dct.get(after_trans):\n",
    "            diff_2_dct[after_trans] += 1\n",
    "        else:\n",
    "            diff_2_dct[after_trans] = 1"
   ]
  },
  {
   "cell_type": "code",
   "execution_count": 25,
   "metadata": {},
   "outputs": [
    {
     "data": {
      "text/plain": [
       "{49: 1,\n",
       " 50: 2,\n",
       " 51: 5,\n",
       " 52: 8,\n",
       " 53: 14,\n",
       " 54: 20,\n",
       " 55: 30,\n",
       " 56: 40,\n",
       " 57: 55,\n",
       " 58: 69,\n",
       " 59: 88,\n",
       " 60: 105,\n",
       " 61: 127,\n",
       " 62: 146,\n",
       " 63: 170,\n",
       " 64: 190,\n",
       " 65: 215,\n",
       " 66: 235,\n",
       " 67: 260,\n",
       " 68: 280,\n",
       " 69: 305,\n",
       " 70: 325,\n",
       " 71: 350,\n",
       " 72: 370,\n",
       " 73: 395,\n",
       " 74: 415,\n",
       " 75: 440,\n",
       " 76: 460,\n",
       " 77: 485,\n",
       " 78: 505,\n",
       " 79: 530,\n",
       " 80: 550,\n",
       " 81: 575,\n",
       " 82: 595,\n",
       " 83: 620,\n",
       " 84: 640,\n",
       " 85: 665,\n",
       " 86: 685,\n",
       " 87: 710,\n",
       " 88: 729,\n",
       " 89: 752,\n",
       " 90: 768,\n",
       " 91: 787,\n",
       " 92: 798,\n",
       " 93: 811,\n",
       " 94: 815,\n",
       " 95: 820,\n",
       " 96: 815,\n",
       " 97: 811,\n",
       " 98: 798,\n",
       " 99: 787,\n",
       " 100: 768,\n",
       " 101: 752,\n",
       " 102: 729,\n",
       " 103: 710,\n",
       " 104: 685,\n",
       " 105: 665,\n",
       " 106: 640,\n",
       " 107: 620,\n",
       " 108: 595,\n",
       " 109: 575,\n",
       " 110: 550,\n",
       " 111: 530,\n",
       " 112: 505,\n",
       " 113: 485,\n",
       " 114: 460,\n",
       " 115: 440,\n",
       " 116: 415,\n",
       " 117: 395,\n",
       " 118: 370,\n",
       " 119: 350,\n",
       " 120: 325,\n",
       " 121: 305,\n",
       " 122: 280,\n",
       " 123: 260,\n",
       " 124: 235,\n",
       " 125: 215,\n",
       " 126: 190,\n",
       " 127: 170,\n",
       " 128: 146,\n",
       " 129: 127,\n",
       " 130: 105,\n",
       " 131: 88,\n",
       " 132: 69,\n",
       " 133: 55,\n",
       " 134: 40,\n",
       " 135: 30,\n",
       " 136: 20,\n",
       " 137: 14,\n",
       " 138: 8,\n",
       " 139: 5,\n",
       " 140: 2,\n",
       " 141: 1}"
      ]
     },
     "execution_count": 25,
     "metadata": {},
     "output_type": "execute_result"
    }
   ],
   "source": [
    "{k: v for k, v in sorted(diff_2_dct.items(), key=lambda item: item[0])}"
   ]
  },
  {
   "cell_type": "code",
   "execution_count": 23,
   "metadata": {},
   "outputs": [
    {
     "name": "stdout",
     "output_type": "stream",
     "text": [
      "(0, 1)\n",
      "(0, 2)\n",
      "(1, 0)\n",
      "(1, 2)\n",
      "(2, 0)\n",
      "(2, 1)\n"
     ]
    }
   ],
   "source": [
    "for i in combinations(range(3), 2):\n",
    "    print(i)"
   ]
  },
  {
   "cell_type": "code",
   "execution_count": null,
   "metadata": {},
   "outputs": [],
   "source": []
  }
 ],
 "metadata": {
  "interpreter": {
   "hash": "2d673306730d9b5f0e77e1316bce41ce05441d51c02a8855a8e9c77acd12801e"
  },
  "kernelspec": {
   "display_name": "Python 3.9.7 64-bit ('.venv': poetry)",
   "language": "python",
   "name": "python3"
  },
  "language_info": {
   "codemirror_mode": {
    "name": "ipython",
    "version": 3
   },
   "file_extension": ".py",
   "mimetype": "text/x-python",
   "name": "python",
   "nbconvert_exporter": "python",
   "pygments_lexer": "ipython3",
   "version": "3.9.7"
  },
  "orig_nbformat": 4
 },
 "nbformat": 4,
 "nbformat_minor": 2
}
